{
 "cells": [
  {
   "cell_type": "markdown",
   "metadata": {},
   "source": [
    "# Data Collection"
   ]
  },
  {
   "cell_type": "markdown",
   "metadata": {},
   "source": [
    "First, we need to import the necessary libraries and packages to collect our data"
   ]
  },
  {
   "cell_type": "code",
   "execution_count": 1,
   "metadata": {},
   "outputs": [],
   "source": [
    "import requests\n",
    "from bs4 import BeautifulSoup "
   ]
  },
  {
   "cell_type": "markdown",
   "metadata": {},
   "source": [
    "## Web-scraping for data\n",
    "After establishing the libraries, we can gather the location of our data on the Box Office Mojo webpage. "
   ]
  },
  {
   "cell_type": "code",
   "execution_count": 8,
   "metadata": {},
   "outputs": [],
   "source": [
    "# send a request for the html from the website\n",
    "bom = requests.get(\"https://www.boxofficemojo.com/chart/ww_top_lifetime_gross/?area=XWW\")\n",
    "# use BeautifulSoup package to read the html\n",
    "bom_soup = BeautifulSoup(bom.content, 'html.parser')\n",
    "# find the table element that correcsonds to the desired data and grab all the rows\n",
    "bom_soups = bom_soup.find('table').findAll('tr')"
   ]
  },
  {
   "cell_type": "markdown",
   "metadata": {},
   "source": [
    "We can check the length of this list to make sure we have the correct number of elements. "
   ]
  },
  {
   "cell_type": "code",
   "execution_count": 10,
   "metadata": {},
   "outputs": [
    {
     "data": {
      "text/plain": [
       "201"
      ]
     },
     "execution_count": 10,
     "metadata": {},
     "output_type": "execute_result"
    }
   ],
   "source": [
    "len(bom_soups)"
   ]
  },
  {
   "cell_type": "markdown",
   "metadata": {},
   "source": [
    "This tells us that we have 200 movies listed as well as an extra row for the header. Now, we can remove the header and work with only the data by calling on all elements but the first and moving from there."
   ]
  },
  {
   "cell_type": "markdown",
   "metadata": {},
   "source": [
    "## Grabbing the data\n",
    "Index through the html to find where the data is located."
   ]
  },
  {
   "cell_type": "code",
   "execution_count": 12,
   "metadata": {},
   "outputs": [],
   "source": [
    "# index all elements except the first\n",
    "bom_movies = bom_soups[1:]"
   ]
  },
  {
   "cell_type": "markdown",
   "metadata": {},
   "source": [
    "Now, we need to create a loop that will go though each element in our *bom_movies* list and present the desiered data in a complied list called *bom_top_200*."
   ]
  },
  {
   "cell_type": "code",
   "execution_count": 15,
   "metadata": {},
   "outputs": [
    {
     "data": {
      "text/plain": [
       "'Avengers: Endgame'"
      ]
     },
     "execution_count": 15,
     "metadata": {},
     "output_type": "execute_result"
    }
   ],
   "source": [
    "# start by indexing the first element to start small\n",
    "bom_movies[0]\n",
    "# find the element that references the movie title\n",
    "bom_movies[0].find('a')\n",
    "# get the text\n",
    "bom_movies[0].find('a').get_text()"
   ]
  },
  {
   "cell_type": "markdown",
   "metadata": {},
   "source": [
    "Using the code layed out above, we can create a for loop that will iterate through each element and retrieve the movie title."
   ]
  },
  {
   "cell_type": "code",
   "execution_count": 17,
   "metadata": {},
   "outputs": [],
   "source": [
    "# create an empty list\n",
    "bom_titles = []\n",
    "# for each element in our list, get the title text\n",
    "for x in bom_movies:\n",
    "    titles = x.find('a').get_text()\n",
    "    bom_titles.append(titles)"
   ]
  },
  {
   "cell_type": "markdown",
   "metadata": {},
   "source": [
    "We can take a look at our list to make sure it worked and even check the length, which should be 200, becasue remebre, we removed the first row which was the header"
   ]
  },
  {
   "cell_type": "code",
   "execution_count": 18,
   "metadata": {},
   "outputs": [
    {
     "data": {
      "text/plain": [
       "200"
      ]
     },
     "execution_count": 18,
     "metadata": {},
     "output_type": "execute_result"
    }
   ],
   "source": [
    "len(bom_titles)"
   ]
  },
  {
   "cell_type": "markdown",
   "metadata": {},
   "source": [
    "Great! We have all of our movie titles. \n",
    "Now we can gather the rememaing data using a similar method."
   ]
  },
  {
   "cell_type": "code",
   "execution_count": 27,
   "metadata": {},
   "outputs": [
    {
     "data": {
      "text/plain": [
       "'2019'"
      ]
     },
     "execution_count": 27,
     "metadata": {},
     "output_type": "execute_result"
    }
   ],
   "source": [
    "# index into the first movie\n",
    "bom_movies[0]\n",
    "# find the table elemnt that contains the year\n",
    "bom_movies[0].findAll('a')\n",
    "# grab that element by indexing into it\n",
    "bom_movies[0].findAll('a')[-1]\n",
    "# get the text\n",
    "bom_movies[0].findAll('a')[-1].get_text()"
   ]
  },
  {
   "cell_type": "markdown",
   "metadata": {},
   "source": [
    "Now we can create a loop that will generate a list of all movie years. And check the length to make sure our data is complete,"
   ]
  },
  {
   "cell_type": "code",
   "execution_count": 30,
   "metadata": {},
   "outputs": [
    {
     "data": {
      "text/plain": [
       "200"
      ]
     },
     "execution_count": 30,
     "metadata": {},
     "output_type": "execute_result"
    }
   ],
   "source": [
    "bom_years = []\n",
    "for x in bom_movies:\n",
    "    years = x.findAll('a')[-1].get_text()\n",
    "    bom_years.append(years)\n",
    "len(bom_years)"
   ]
  },
  {
   "cell_type": "markdown",
   "metadata": {},
   "source": [
    "Now, to gather the data for the elemenets within the 'td' parsing, which is our remaining data, we can simply index into each elemnt of our list and assign it to a new list like we have been doing. "
   ]
  },
  {
   "cell_type": "markdown",
   "metadata": {},
   "source": [
    "> **Note:** This method only works under the certainty that the data is properly arranged for each movie."
   ]
  },
  {
   "cell_type": "code",
   "execution_count": 34,
   "metadata": {
    "scrolled": true
   },
   "outputs": [],
   "source": [
    "# new lists to contain the data\n",
    "bom_ww_gross = []\n",
    "bom_dom_gross = []\n",
    "bom_fore_gross = []\n",
    "dom_perc = []\n",
    "fore_perc = []\n",
    "for x in bom_movies:\n",
    "    ww = x.findAll('td')[2].get_text()\n",
    "    dom = x.findAll('td')[3].get_text()\n",
    "    domp = x.findAll('td')[4].get_text()\n",
    "    fore = x.findAll('td')[5].get_text()\n",
    "    forep = x.findAll('td')[-2].get_text()\n",
    "# append all of the elemts you just generated to their respective lists\n",
    "    bom_ww_gross.append(ww)\n",
    "    bom_dom_gross.append(dom)\n",
    "    bom_fore_gross.append(fore)\n",
    "    dom_perc.append(domp)\n",
    "    fore_perc.append(forep)"
   ]
  },
  {
   "cell_type": "markdown",
   "metadata": {},
   "source": [
    "Now that was a lot, but to check and make sure we have all of out data, we can print the length of each list"
   ]
  },
  {
   "cell_type": "code",
   "execution_count": 35,
   "metadata": {},
   "outputs": [
    {
     "name": "stdout",
     "output_type": "stream",
     "text": [
      "200\n",
      "200\n",
      "200\n",
      "200\n",
      "200\n"
     ]
    }
   ],
   "source": [
    "print(len(bom_ww_gross))\n",
    "print(len(bom_dom_gross))\n",
    "print(len(bom_fore_gross))\n",
    "print(len(dom_perc))\n",
    "print(len(fore_perc))"
   ]
  },
  {
   "cell_type": "markdown",
   "metadata": {},
   "source": [
    "Sucess! Now that we have all of our desired data neatly stored into lists, we can create our data frame."
   ]
  },
  {
   "cell_type": "markdown",
   "metadata": {},
   "source": [
    "## Generating the dataframe\n",
    "Use the data collected to form the dataframe."
   ]
  },
  {
   "cell_type": "code",
   "execution_count": 36,
   "metadata": {},
   "outputs": [],
   "source": [
    "# import pandas as the necessary package\n",
    "import pandas as pd"
   ]
  },
  {
   "cell_type": "markdown",
   "metadata": {},
   "source": [
    "Using the DataFrame method from pandas, we can create our dataframe from scratch"
   ]
  },
  {
   "cell_type": "code",
   "execution_count": 37,
   "metadata": {},
   "outputs": [
    {
     "data": {
      "text/html": [
       "<div>\n",
       "<style scoped>\n",
       "    .dataframe tbody tr th:only-of-type {\n",
       "        vertical-align: middle;\n",
       "    }\n",
       "\n",
       "    .dataframe tbody tr th {\n",
       "        vertical-align: top;\n",
       "    }\n",
       "\n",
       "    .dataframe thead th {\n",
       "        text-align: right;\n",
       "    }\n",
       "</style>\n",
       "<table border=\"1\" class=\"dataframe\">\n",
       "  <thead>\n",
       "    <tr style=\"text-align: right;\">\n",
       "      <th></th>\n",
       "      <th>Title</th>\n",
       "      <th>Year</th>\n",
       "      <th>Worldwide Lifetime Gross</th>\n",
       "      <th>Domestic Lifetime Gross</th>\n",
       "      <th>Domestic %</th>\n",
       "      <th>Foreign Lifetime Gross</th>\n",
       "      <th>Foreign %</th>\n",
       "    </tr>\n",
       "  </thead>\n",
       "  <tbody>\n",
       "    <tr>\n",
       "      <th>0</th>\n",
       "      <td>Avengers: Endgame</td>\n",
       "      <td>2019</td>\n",
       "      <td>$2,797,800,564</td>\n",
       "      <td>$858,373,000</td>\n",
       "      <td>30.7%</td>\n",
       "      <td>$1,939,427,564</td>\n",
       "      <td>69.3%</td>\n",
       "    </tr>\n",
       "    <tr>\n",
       "      <th>1</th>\n",
       "      <td>Avatar</td>\n",
       "      <td>2009</td>\n",
       "      <td>$2,790,439,092</td>\n",
       "      <td>$760,507,625</td>\n",
       "      <td>27.2%</td>\n",
       "      <td>$2,029,931,467</td>\n",
       "      <td>72.8%</td>\n",
       "    </tr>\n",
       "    <tr>\n",
       "      <th>2</th>\n",
       "      <td>Titanic</td>\n",
       "      <td>1997</td>\n",
       "      <td>$2,195,170,133</td>\n",
       "      <td>$659,363,944</td>\n",
       "      <td>30%</td>\n",
       "      <td>$1,535,806,189</td>\n",
       "      <td>70%</td>\n",
       "    </tr>\n",
       "    <tr>\n",
       "      <th>3</th>\n",
       "      <td>Star Wars: Episode VII - The Force Awakens</td>\n",
       "      <td>2015</td>\n",
       "      <td>$2,068,454,133</td>\n",
       "      <td>$936,662,225</td>\n",
       "      <td>45.3%</td>\n",
       "      <td>$1,131,791,908</td>\n",
       "      <td>54.7%</td>\n",
       "    </tr>\n",
       "    <tr>\n",
       "      <th>4</th>\n",
       "      <td>Avengers: Infinity War</td>\n",
       "      <td>2018</td>\n",
       "      <td>$2,048,359,754</td>\n",
       "      <td>$678,815,482</td>\n",
       "      <td>33.1%</td>\n",
       "      <td>$1,369,544,272</td>\n",
       "      <td>66.9%</td>\n",
       "    </tr>\n",
       "    <tr>\n",
       "      <th>...</th>\n",
       "      <td>...</td>\n",
       "      <td>...</td>\n",
       "      <td>...</td>\n",
       "      <td>...</td>\n",
       "      <td>...</td>\n",
       "      <td>...</td>\n",
       "      <td>...</td>\n",
       "    </tr>\n",
       "    <tr>\n",
       "      <th>195</th>\n",
       "      <td>The Revenant</td>\n",
       "      <td>2015</td>\n",
       "      <td>$532,950,503</td>\n",
       "      <td>$183,637,894</td>\n",
       "      <td>34.5%</td>\n",
       "      <td>$349,312,609</td>\n",
       "      <td>65.5%</td>\n",
       "    </tr>\n",
       "    <tr>\n",
       "      <th>196</th>\n",
       "      <td>The Meg</td>\n",
       "      <td>2018</td>\n",
       "      <td>$530,259,473</td>\n",
       "      <td>$145,443,742</td>\n",
       "      <td>27.4%</td>\n",
       "      <td>$384,815,731</td>\n",
       "      <td>72.6%</td>\n",
       "    </tr>\n",
       "    <tr>\n",
       "      <th>197</th>\n",
       "      <td>Ralph Breaks the Internet</td>\n",
       "      <td>2018</td>\n",
       "      <td>$529,323,962</td>\n",
       "      <td>$201,091,711</td>\n",
       "      <td>38%</td>\n",
       "      <td>$328,232,251</td>\n",
       "      <td>62%</td>\n",
       "    </tr>\n",
       "    <tr>\n",
       "      <th>198</th>\n",
       "      <td>Hotel Transylvania 3: Summer Vacation</td>\n",
       "      <td>2018</td>\n",
       "      <td>$528,583,774</td>\n",
       "      <td>$167,510,016</td>\n",
       "      <td>31.7%</td>\n",
       "      <td>$361,073,758</td>\n",
       "      <td>68.3%</td>\n",
       "    </tr>\n",
       "    <tr>\n",
       "      <th>199</th>\n",
       "      <td>The Boss Baby</td>\n",
       "      <td>2017</td>\n",
       "      <td>$527,965,936</td>\n",
       "      <td>$175,003,033</td>\n",
       "      <td>33.2%</td>\n",
       "      <td>$352,962,903</td>\n",
       "      <td>66.8%</td>\n",
       "    </tr>\n",
       "  </tbody>\n",
       "</table>\n",
       "<p>200 rows × 7 columns</p>\n",
       "</div>"
      ],
      "text/plain": [
       "                                          Title  Year  \\\n",
       "0                             Avengers: Endgame  2019   \n",
       "1                                        Avatar  2009   \n",
       "2                                       Titanic  1997   \n",
       "3    Star Wars: Episode VII - The Force Awakens  2015   \n",
       "4                        Avengers: Infinity War  2018   \n",
       "..                                          ...   ...   \n",
       "195                                The Revenant  2015   \n",
       "196                                     The Meg  2018   \n",
       "197                   Ralph Breaks the Internet  2018   \n",
       "198       Hotel Transylvania 3: Summer Vacation  2018   \n",
       "199                               The Boss Baby  2017   \n",
       "\n",
       "    Worldwide Lifetime Gross Domestic Lifetime Gross Domestic %  \\\n",
       "0             $2,797,800,564            $858,373,000      30.7%   \n",
       "1             $2,790,439,092            $760,507,625      27.2%   \n",
       "2             $2,195,170,133            $659,363,944        30%   \n",
       "3             $2,068,454,133            $936,662,225      45.3%   \n",
       "4             $2,048,359,754            $678,815,482      33.1%   \n",
       "..                       ...                     ...        ...   \n",
       "195             $532,950,503            $183,637,894      34.5%   \n",
       "196             $530,259,473            $145,443,742      27.4%   \n",
       "197             $529,323,962            $201,091,711        38%   \n",
       "198             $528,583,774            $167,510,016      31.7%   \n",
       "199             $527,965,936            $175,003,033      33.2%   \n",
       "\n",
       "    Foreign Lifetime Gross Foreign %  \n",
       "0           $1,939,427,564     69.3%  \n",
       "1           $2,029,931,467     72.8%  \n",
       "2           $1,535,806,189       70%  \n",
       "3           $1,131,791,908     54.7%  \n",
       "4           $1,369,544,272     66.9%  \n",
       "..                     ...       ...  \n",
       "195           $349,312,609     65.5%  \n",
       "196           $384,815,731     72.6%  \n",
       "197           $328,232,251       62%  \n",
       "198           $361,073,758     68.3%  \n",
       "199           $352,962,903     66.8%  \n",
       "\n",
       "[200 rows x 7 columns]"
      ]
     },
     "execution_count": 37,
     "metadata": {},
     "output_type": "execute_result"
    }
   ],
   "source": [
    "BOM_top_200 = pd.DataFrame({'Title': bom_titles, \n",
    "              'Year': bom_years, \n",
    "              'Worldwide Lifetime Gross': bom_ww_gross, \n",
    "              'Domestic Lifetime Gross': bom_dom_gross, \n",
    "              'Domestic %': dom_perc, \n",
    "              'Foreign Lifetime Gross': bom_fore_gross, \n",
    "              'Foreign %': fore_perc})\n",
    "# let's look at out new dataframe\n",
    "BOM_top_200"
   ]
  },
  {
   "cell_type": "markdown",
   "metadata": {},
   "source": [
    "Amazing, we have manually generated our data frame via web scraping! As mentioned before, this is not the optimal way to web scrape a webpage to generate a data frame, but it is gives you an idea of what is going on when you are creating your for loop. Now we can save this **uncleaned** data as a backup csv file."
   ]
  },
  {
   "cell_type": "code",
   "execution_count": 39,
   "metadata": {},
   "outputs": [],
   "source": [
    "BOM_top_200.to_csv('unclean_BOM_top_200.csv')"
   ]
  },
  {
   "cell_type": "markdown",
   "metadata": {},
   "source": [
    "# Data Cleaning\n",
    "Now that we have our data frame, we can begin cleaning it. "
   ]
  },
  {
   "cell_type": "code",
   "execution_count": 42,
   "metadata": {},
   "outputs": [],
   "source": [
    "# load the csv into a new varibale for easy access and display\n",
    "# set the index column equal to zero to avoind unwanted indexing\n",
    "bom_df = pd.read_csv('unclean_BOM_top_200.csv', index_col=0)"
   ]
  },
  {
   "cell_type": "markdown",
   "metadata": {},
   "source": [
    "## Exploring the data\n",
    "Exploring the data entails looking through to see if there are any oddities or mimssing values. "
   ]
  },
  {
   "cell_type": "code",
   "execution_count": 45,
   "metadata": {},
   "outputs": [
    {
     "data": {
      "text/plain": [
       "Title                       object\n",
       "Year                         int64\n",
       "Worldwide Lifetime Gross    object\n",
       "Domestic Lifetime Gross     object\n",
       "Domestic %                  object\n",
       "Foreign Lifetime Gross      object\n",
       "Foreign %                   object\n",
       "dtype: object"
      ]
     },
     "execution_count": 45,
     "metadata": {},
     "output_type": "execute_result"
    }
   ],
   "source": [
    "# check the dtypes for each value in each column to ensure our data is consistant\n",
    "bom_df.dtypes"
   ]
  },
  {
   "cell_type": "markdown",
   "metadata": {},
   "source": [
    "From the code above, we can see that the dtypes for our our numeric values are not floats or integers like they should be. Let's try to find out why:"
   ]
  },
  {
   "cell_type": "code",
   "execution_count": 46,
   "metadata": {},
   "outputs": [
    {
     "data": {
      "text/plain": [
       "Title                       0\n",
       "Year                        0\n",
       "Worldwide Lifetime Gross    0\n",
       "Domestic Lifetime Gross     0\n",
       "Domestic %                  0\n",
       "Foreign Lifetime Gross      0\n",
       "Foreign %                   0\n",
       "dtype: int64"
      ]
     },
     "execution_count": 46,
     "metadata": {},
     "output_type": "execute_result"
    }
   ],
   "source": [
    "# check for any missing values\n",
    "bom_df.isnull().sum()"
   ]
  },
  {
   "cell_type": "markdown",
   "metadata": {},
   "source": [
    "There are no missing values. Let's what else could be the problem?"
   ]
  },
  {
   "cell_type": "markdown",
   "metadata": {},
   "source": [
    "## Cleaning"
   ]
  },
  {
   "cell_type": "code",
   "execution_count": 48,
   "metadata": {},
   "outputs": [
    {
     "data": {
      "text/html": [
       "<div>\n",
       "<style scoped>\n",
       "    .dataframe tbody tr th:only-of-type {\n",
       "        vertical-align: middle;\n",
       "    }\n",
       "\n",
       "    .dataframe tbody tr th {\n",
       "        vertical-align: top;\n",
       "    }\n",
       "\n",
       "    .dataframe thead th {\n",
       "        text-align: right;\n",
       "    }\n",
       "</style>\n",
       "<table border=\"1\" class=\"dataframe\">\n",
       "  <thead>\n",
       "    <tr style=\"text-align: right;\">\n",
       "      <th></th>\n",
       "      <th>Title</th>\n",
       "      <th>Year</th>\n",
       "      <th>Worldwide Lifetime Gross</th>\n",
       "      <th>Domestic Lifetime Gross</th>\n",
       "      <th>Domestic %</th>\n",
       "      <th>Foreign Lifetime Gross</th>\n",
       "      <th>Foreign %</th>\n",
       "    </tr>\n",
       "  </thead>\n",
       "  <tbody>\n",
       "    <tr>\n",
       "      <th>0</th>\n",
       "      <td>Avengers: Endgame</td>\n",
       "      <td>2019</td>\n",
       "      <td>2,797,800,564</td>\n",
       "      <td>858,373,000</td>\n",
       "      <td>30.7</td>\n",
       "      <td>1,939,427,564</td>\n",
       "      <td>69.3</td>\n",
       "    </tr>\n",
       "    <tr>\n",
       "      <th>1</th>\n",
       "      <td>Avatar</td>\n",
       "      <td>2009</td>\n",
       "      <td>2,790,439,092</td>\n",
       "      <td>760,507,625</td>\n",
       "      <td>27.2</td>\n",
       "      <td>2,029,931,467</td>\n",
       "      <td>72.8</td>\n",
       "    </tr>\n",
       "    <tr>\n",
       "      <th>2</th>\n",
       "      <td>Titanic</td>\n",
       "      <td>1997</td>\n",
       "      <td>2,195,170,133</td>\n",
       "      <td>659,363,944</td>\n",
       "      <td>30</td>\n",
       "      <td>1,535,806,189</td>\n",
       "      <td>70</td>\n",
       "    </tr>\n",
       "  </tbody>\n",
       "</table>\n",
       "</div>"
      ],
      "text/plain": [
       "               Title  Year Worldwide Lifetime Gross Domestic Lifetime Gross  \\\n",
       "0  Avengers: Endgame  2019            2,797,800,564             858,373,000   \n",
       "1             Avatar  2009            2,790,439,092             760,507,625   \n",
       "2            Titanic  1997            2,195,170,133             659,363,944   \n",
       "\n",
       "  Domestic % Foreign Lifetime Gross Foreign %  \n",
       "0       30.7          1,939,427,564      69.3  \n",
       "1       27.2          2,029,931,467      72.8  \n",
       "2         30          1,535,806,189        70  "
      ]
     },
     "execution_count": 48,
     "metadata": {},
     "output_type": "execute_result"
    }
   ],
   "source": [
    "# explore the first few rows\n",
    "bom_df.head(3)"
   ]
  },
  {
   "cell_type": "markdown",
   "metadata": {},
   "source": [
    "Already, we can see that there are dollar signs in gross columns and percentage signs in percet columns. These charatcers are what turns our numberic integer into an object. We need to remove them using the map function with the .strip() method."
   ]
  },
  {
   "cell_type": "code",
   "execution_count": 47,
   "metadata": {
    "scrolled": true
   },
   "outputs": [
    {
     "data": {
      "text/html": [
       "<div>\n",
       "<style scoped>\n",
       "    .dataframe tbody tr th:only-of-type {\n",
       "        vertical-align: middle;\n",
       "    }\n",
       "\n",
       "    .dataframe tbody tr th {\n",
       "        vertical-align: top;\n",
       "    }\n",
       "\n",
       "    .dataframe thead th {\n",
       "        text-align: right;\n",
       "    }\n",
       "</style>\n",
       "<table border=\"1\" class=\"dataframe\">\n",
       "  <thead>\n",
       "    <tr style=\"text-align: right;\">\n",
       "      <th></th>\n",
       "      <th>Title</th>\n",
       "      <th>Year</th>\n",
       "      <th>Worldwide Lifetime Gross</th>\n",
       "      <th>Domestic Lifetime Gross</th>\n",
       "      <th>Domestic %</th>\n",
       "      <th>Foreign Lifetime Gross</th>\n",
       "      <th>Foreign %</th>\n",
       "    </tr>\n",
       "  </thead>\n",
       "  <tbody>\n",
       "    <tr>\n",
       "      <th>0</th>\n",
       "      <td>Avengers: Endgame</td>\n",
       "      <td>2019</td>\n",
       "      <td>2,797,800,564</td>\n",
       "      <td>858,373,000</td>\n",
       "      <td>30.7</td>\n",
       "      <td>1,939,427,564</td>\n",
       "      <td>69.3</td>\n",
       "    </tr>\n",
       "    <tr>\n",
       "      <th>1</th>\n",
       "      <td>Avatar</td>\n",
       "      <td>2009</td>\n",
       "      <td>2,790,439,092</td>\n",
       "      <td>760,507,625</td>\n",
       "      <td>27.2</td>\n",
       "      <td>2,029,931,467</td>\n",
       "      <td>72.8</td>\n",
       "    </tr>\n",
       "    <tr>\n",
       "      <th>2</th>\n",
       "      <td>Titanic</td>\n",
       "      <td>1997</td>\n",
       "      <td>2,195,170,133</td>\n",
       "      <td>659,363,944</td>\n",
       "      <td>30</td>\n",
       "      <td>1,535,806,189</td>\n",
       "      <td>70</td>\n",
       "    </tr>\n",
       "  </tbody>\n",
       "</table>\n",
       "</div>"
      ],
      "text/plain": [
       "               Title  Year Worldwide Lifetime Gross Domestic Lifetime Gross  \\\n",
       "0  Avengers: Endgame  2019            2,797,800,564             858,373,000   \n",
       "1             Avatar  2009            2,790,439,092             760,507,625   \n",
       "2            Titanic  1997            2,195,170,133             659,363,944   \n",
       "\n",
       "  Domestic % Foreign Lifetime Gross Foreign %  \n",
       "0       30.7          1,939,427,564      69.3  \n",
       "1       27.2          2,029,931,467      72.8  \n",
       "2         30          1,535,806,189        70  "
      ]
     },
     "execution_count": 47,
     "metadata": {},
     "output_type": "execute_result"
    }
   ],
   "source": [
    "# left strip $ and right strip % for each respective column\n",
    "bom_df['Worldwide Lifetime Gross'] = bom_df['Worldwide Lifetime Gross'].map(lambda x: x.lstrip('$'))\n",
    "bom_df['Domestic Lifetime Gross'] = bom_df['Domestic Lifetime Gross'].map(lambda x: x.lstrip('$'))\n",
    "bom_df['Foreign Lifetime Gross'] = bom_df['Foreign Lifetime Gross'].map(lambda x: x.lstrip('$'))\n",
    "bom_df['Domestic %'] = bom_df['Domestic %'].map(lambda x: x.rstrip('%'))\n",
    "bom_df['Foreign %'] = bom_df['Foreign %'].map(lambda x: x.rstrip('%'))\n",
    "bom_df.head(3)"
   ]
  },
  {
   "cell_type": "markdown",
   "metadata": {},
   "source": [
    "Now let's check the dtypes again"
   ]
  },
  {
   "cell_type": "code",
   "execution_count": 50,
   "metadata": {},
   "outputs": [
    {
     "data": {
      "text/plain": [
       "Title                       object\n",
       "Year                         int64\n",
       "Worldwide Lifetime Gross    object\n",
       "Domestic Lifetime Gross     object\n",
       "Domestic %                  object\n",
       "Foreign Lifetime Gross      object\n",
       "Foreign %                   object\n",
       "dtype: object"
      ]
     },
     "execution_count": 50,
     "metadata": {},
     "output_type": "execute_result"
    }
   ],
   "source": [
    "bom_df.dtypes"
   ]
  },
  {
   "cell_type": "markdown",
   "metadata": {},
   "source": [
    "We still seem to be in some trouble. It looks like the commas need to be removed aswell. We can do this using the str.replace() method."
   ]
  },
  {
   "cell_type": "code",
   "execution_count": 51,
   "metadata": {},
   "outputs": [
    {
     "data": {
      "text/plain": [
       "Title                       object\n",
       "Year                         int64\n",
       "Worldwide Lifetime Gross    object\n",
       "Domestic Lifetime Gross     object\n",
       "Domestic %                  object\n",
       "Foreign Lifetime Gross      object\n",
       "Foreign %                   object\n",
       "dtype: object"
      ]
     },
     "execution_count": 51,
     "metadata": {},
     "output_type": "execute_result"
    }
   ],
   "source": [
    "# remove all commas from numeric values then check dtype\n",
    "bom_df['Worldwide Lifetime Gross'] = bom_df['Worldwide Lifetime Gross'].str.replace(',', '')\n",
    "bom_df['Domestic Lifetime Gross'] = bom_df['Domestic Lifetime Gross'].str.replace(',', '')\n",
    "bom_df['Foreign Lifetime Gross'] = bom_df['Foreign Lifetime Gross'].str.replace(',', '')\n",
    "bom_df.dtypes"
   ]
  },
  {
   "cell_type": "markdown",
   "metadata": {},
   "source": [
    "There is still an issue. To remedy this identify crisis, we need to now convert our object into a numeric element type using pd.to_numeric()."
   ]
  },
  {
   "cell_type": "code",
   "execution_count": 54,
   "metadata": {},
   "outputs": [
    {
     "data": {
      "text/plain": [
       "Title                       object\n",
       "Year                         int64\n",
       "Worldwide Lifetime Gross     int64\n",
       "Domestic Lifetime Gross      int64\n",
       "Domestic %                  object\n",
       "Foreign Lifetime Gross       int64\n",
       "Foreign %                   object\n",
       "dtype: object"
      ]
     },
     "execution_count": 54,
     "metadata": {},
     "output_type": "execute_result"
    }
   ],
   "source": [
    "# change the dtypes for all gross values from object to integer\n",
    "bom_df['Worldwide Lifetime Gross'] = pd.to_numeric(bom_df['Worldwide Lifetime Gross'], errors='coerce')\n",
    "bom_df['Domestic Lifetime Gross'] = pd.to_numeric(bom_df['Domestic Lifetime Gross'], errors='coerce')\n",
    "bom_df['Foreign Lifetime Gross'] = pd.to_numeric(bom_df['Foreign Lifetime Gross'], errors='coerce')\n",
    "# check the updeated dtypes\n",
    "bom_df.dtypes"
   ]
  },
  {
   "cell_type": "markdown",
   "metadata": {},
   "source": [
    "Almost there! There are still periods in our percent columns. We need to make those ojbects floats. "
   ]
  },
  {
   "cell_type": "code",
   "execution_count": 55,
   "metadata": {},
   "outputs": [
    {
     "data": {
      "text/plain": [
       "Title                        object\n",
       "Year                          int64\n",
       "Worldwide Lifetime Gross      int64\n",
       "Domestic Lifetime Gross       int64\n",
       "Domestic %                  float64\n",
       "Foreign Lifetime Gross        int64\n",
       "Foreign %                   float64\n",
       "dtype: object"
      ]
     },
     "execution_count": 55,
     "metadata": {},
     "output_type": "execute_result"
    }
   ],
   "source": [
    "# convert the remaining uncessecary objects into floats\n",
    "bom_df['Domestic %'] = pd.to_numeric(bom_df['Domestic %'], errors='coerce')\n",
    "bom_df['Foreign %'] = pd.to_numeric(bom_df['Foreign %'], errors='coerce')\n",
    "# final dtypes check (hopefully)\n",
    "bom_df.dtypes"
   ]
  },
  {
   "cell_type": "markdown",
   "metadata": {},
   "source": [
    "Wow! We have now successfully cleaned out Box Office Mojo data! We can tell this by noting the titles are strings which are ojbects in pandas, our gross values are integers, and our percentages are floats, as they should be due to them being decimals."
   ]
  },
  {
   "cell_type": "markdown",
   "metadata": {},
   "source": [
    "Just like before, we will save this **cleaned** data frame into a new csv backup file."
   ]
  },
  {
   "cell_type": "code",
   "execution_count": 56,
   "metadata": {},
   "outputs": [],
   "source": [
    "bom_df.to_csv('clean_BOM_top_200.csv')"
   ]
  },
  {
   "cell_type": "markdown",
   "metadata": {},
   "source": [
    "# Data Analytics\n",
    "Now we can analyze our data inpreparation for visualizations. "
   ]
  },
  {
   "cell_type": "markdown",
   "metadata": {},
   "source": [
    "For the analysis of Box Office Mojo data, we will look at the top 5 movies that have earned the most grossing worldwide. From this we can narrow it down even more to see which movies did better domestically vs overseas. From this we can generate insights as to the genre Microsoft may consider for their movie. "
   ]
  },
  {
   "cell_type": "code",
   "execution_count": 74,
   "metadata": {},
   "outputs": [
    {
     "data": {
      "text/plain": [
       "200"
      ]
     },
     "execution_count": 74,
     "metadata": {},
     "output_type": "execute_result"
    }
   ],
   "source": [
    "# import numpy package for content readability\n",
    "import numpy as np\n",
    "df = pd.read_csv('clean_BOM_top_200.csv', index_col=0)"
   ]
  },
  {
   "cell_type": "markdown",
   "metadata": {},
   "source": [
    "Even though we generated this data already sorted from the webpage, it is always best to ensure you data is formated correctly for analysis."
   ]
  },
  {
   "cell_type": "code",
   "execution_count": 63,
   "metadata": {
    "scrolled": true
   },
   "outputs": [
    {
     "data": {
      "text/html": [
       "<div>\n",
       "<style scoped>\n",
       "    .dataframe tbody tr th:only-of-type {\n",
       "        vertical-align: middle;\n",
       "    }\n",
       "\n",
       "    .dataframe tbody tr th {\n",
       "        vertical-align: top;\n",
       "    }\n",
       "\n",
       "    .dataframe thead th {\n",
       "        text-align: right;\n",
       "    }\n",
       "</style>\n",
       "<table border=\"1\" class=\"dataframe\">\n",
       "  <thead>\n",
       "    <tr style=\"text-align: right;\">\n",
       "      <th></th>\n",
       "      <th>Title</th>\n",
       "      <th>Year</th>\n",
       "      <th>Worldwide Lifetime Gross</th>\n",
       "      <th>Domestic Lifetime Gross</th>\n",
       "      <th>Domestic %</th>\n",
       "      <th>Foreign Lifetime Gross</th>\n",
       "      <th>Foreign %</th>\n",
       "    </tr>\n",
       "  </thead>\n",
       "  <tbody>\n",
       "    <tr>\n",
       "      <th>0</th>\n",
       "      <td>Avengers: Endgame</td>\n",
       "      <td>2019</td>\n",
       "      <td>2797800564</td>\n",
       "      <td>858373000</td>\n",
       "      <td>30.7</td>\n",
       "      <td>1939427564</td>\n",
       "      <td>69.3</td>\n",
       "    </tr>\n",
       "    <tr>\n",
       "      <th>1</th>\n",
       "      <td>Avatar</td>\n",
       "      <td>2009</td>\n",
       "      <td>2790439092</td>\n",
       "      <td>760507625</td>\n",
       "      <td>27.2</td>\n",
       "      <td>2029931467</td>\n",
       "      <td>72.8</td>\n",
       "    </tr>\n",
       "    <tr>\n",
       "      <th>2</th>\n",
       "      <td>Titanic</td>\n",
       "      <td>1997</td>\n",
       "      <td>2195170133</td>\n",
       "      <td>659363944</td>\n",
       "      <td>30.0</td>\n",
       "      <td>1535806189</td>\n",
       "      <td>70.0</td>\n",
       "    </tr>\n",
       "    <tr>\n",
       "      <th>3</th>\n",
       "      <td>Star Wars: Episode VII - The Force Awakens</td>\n",
       "      <td>2015</td>\n",
       "      <td>2068454133</td>\n",
       "      <td>936662225</td>\n",
       "      <td>45.3</td>\n",
       "      <td>1131791908</td>\n",
       "      <td>54.7</td>\n",
       "    </tr>\n",
       "    <tr>\n",
       "      <th>4</th>\n",
       "      <td>Avengers: Infinity War</td>\n",
       "      <td>2018</td>\n",
       "      <td>2048359754</td>\n",
       "      <td>678815482</td>\n",
       "      <td>33.1</td>\n",
       "      <td>1369544272</td>\n",
       "      <td>66.9</td>\n",
       "    </tr>\n",
       "  </tbody>\n",
       "</table>\n",
       "</div>"
      ],
      "text/plain": [
       "                                        Title  Year  Worldwide Lifetime Gross  \\\n",
       "0                           Avengers: Endgame  2019                2797800564   \n",
       "1                                      Avatar  2009                2790439092   \n",
       "2                                     Titanic  1997                2195170133   \n",
       "3  Star Wars: Episode VII - The Force Awakens  2015                2068454133   \n",
       "4                      Avengers: Infinity War  2018                2048359754   \n",
       "\n",
       "   Domestic Lifetime Gross  Domestic %  Foreign Lifetime Gross  Foreign %  \n",
       "0                858373000        30.7              1939427564       69.3  \n",
       "1                760507625        27.2              2029931467       72.8  \n",
       "2                659363944        30.0              1535806189       70.0  \n",
       "3                936662225        45.3              1131791908       54.7  \n",
       "4                678815482        33.1              1369544272       66.9  "
      ]
     },
     "execution_count": 63,
     "metadata": {},
     "output_type": "execute_result"
    }
   ],
   "source": [
    "# first check to make sure the order of your sorted values is corect\n",
    "df.sort_values(by = 'Worldwide Lifetime Gross', ascending = 0)\n",
    "# grab the top 5\n",
    "df.sort_values(by = 'Worldwide Lifetime Gross', ascending = 0)[0:5]"
   ]
  },
  {
   "cell_type": "markdown",
   "metadata": {},
   "source": [
    "Great, now we know how we want our values sorted. Time to analyze the gross earnings accoriding to these parameters. "
   ]
  },
  {
   "cell_type": "code",
   "execution_count": 152,
   "metadata": {},
   "outputs": [],
   "source": [
    "# frist, make sure the values are sorted by ww lifetime gross\n",
    "df.sort_values(by = ['Worldwide Lifetime Gross'], ascending = False)\n",
    "# isoltae the column needed\n",
    "df.sort_values(by = ['Worldwide Lifetime Gross'], ascending = False)['Worldwide Lifetime Gross']\n",
    "# grab the top 5 values\n",
    "df.sort_values(by = ['Worldwide Lifetime Gross'], ascending = False)['Worldwide Lifetime Gross'][0:5].values\n",
    "# assign to a variable\n",
    "wwy = df.sort_values(by = ['Worldwide Lifetime Gross'], ascending = False)['Worldwide Lifetime Gross'][0:10].values/10**9\n",
    "# grab the names of the top 5 values and assign to a variable\n",
    "wwx = df.sort_values(by = ['Worldwide Lifetime Gross'], ascending = False)['Title'][0:10].values\n",
    "# repeat for domestic and foreign values\n",
    "# domestic values\n",
    "domy = df.sort_values(by = ['Domestic Lifetime Gross'], ascending = False)['Domestic Lifetime Gross'][0:5].values/10**6\n",
    "domx = df.sort_values(by = ['Domestic Lifetime Gross'], ascending = False)['Title'][0:5].values\n",
    "# foreign values\n",
    "fory = df.sort_values(by = ['Foreign Lifetime Gross'], ascending = False)['Foreign Lifetime Gross'][0:5].values/10**9\n",
    "forx = df.sort_values(by = ['Foreign Lifetime Gross'], ascending = False)['Title'][0:5].values\n"
   ]
  },
  {
   "cell_type": "markdown",
   "metadata": {},
   "source": [
    "Call on the decribe method to get a descriptive summary on the statics of our data."
   ]
  },
  {
   "cell_type": "code",
   "execution_count": 79,
   "metadata": {
    "scrolled": true
   },
   "outputs": [
    {
     "data": {
      "text/html": [
       "<div>\n",
       "<style scoped>\n",
       "    .dataframe tbody tr th:only-of-type {\n",
       "        vertical-align: middle;\n",
       "    }\n",
       "\n",
       "    .dataframe tbody tr th {\n",
       "        vertical-align: top;\n",
       "    }\n",
       "\n",
       "    .dataframe thead th {\n",
       "        text-align: right;\n",
       "    }\n",
       "</style>\n",
       "<table border=\"1\" class=\"dataframe\">\n",
       "  <thead>\n",
       "    <tr style=\"text-align: right;\">\n",
       "      <th></th>\n",
       "      <th>Year</th>\n",
       "      <th>Worldwide Lifetime Gross</th>\n",
       "      <th>Domestic Lifetime Gross</th>\n",
       "      <th>Domestic %</th>\n",
       "      <th>Foreign Lifetime Gross</th>\n",
       "      <th>Foreign %</th>\n",
       "    </tr>\n",
       "  </thead>\n",
       "  <tbody>\n",
       "    <tr>\n",
       "      <th>count</th>\n",
       "      <td>200.000000</td>\n",
       "      <td>2.000000e+02</td>\n",
       "      <td>2.000000e+02</td>\n",
       "      <td>200.000000</td>\n",
       "      <td>2.000000e+02</td>\n",
       "      <td>200.000000</td>\n",
       "    </tr>\n",
       "    <tr>\n",
       "      <th>mean</th>\n",
       "      <td>2011.015000</td>\n",
       "      <td>8.534427e+08</td>\n",
       "      <td>2.997719e+08</td>\n",
       "      <td>35.211500</td>\n",
       "      <td>5.536707e+08</td>\n",
       "      <td>64.788500</td>\n",
       "    </tr>\n",
       "    <tr>\n",
       "      <th>std</th>\n",
       "      <td>7.116036</td>\n",
       "      <td>3.458209e+08</td>\n",
       "      <td>1.414445e+08</td>\n",
       "      <td>10.503295</td>\n",
       "      <td>2.477057e+08</td>\n",
       "      <td>10.503295</td>\n",
       "    </tr>\n",
       "    <tr>\n",
       "      <th>min</th>\n",
       "      <td>1977.000000</td>\n",
       "      <td>5.279659e+08</td>\n",
       "      <td>1.543547e+06</td>\n",
       "      <td>0.300000</td>\n",
       "      <td>1.973000e+08</td>\n",
       "      <td>36.000000</td>\n",
       "    </tr>\n",
       "    <tr>\n",
       "      <th>25%</th>\n",
       "      <td>2007.750000</td>\n",
       "      <td>6.238815e+08</td>\n",
       "      <td>2.091848e+08</td>\n",
       "      <td>29.375000</td>\n",
       "      <td>4.011319e+08</td>\n",
       "      <td>58.325000</td>\n",
       "    </tr>\n",
       "    <tr>\n",
       "      <th>50%</th>\n",
       "      <td>2013.000000</td>\n",
       "      <td>7.664029e+08</td>\n",
       "      <td>2.860709e+08</td>\n",
       "      <td>34.800000</td>\n",
       "      <td>4.929737e+08</td>\n",
       "      <td>65.200000</td>\n",
       "    </tr>\n",
       "    <tr>\n",
       "      <th>75%</th>\n",
       "      <td>2016.000000</td>\n",
       "      <td>9.670434e+08</td>\n",
       "      <td>3.633033e+08</td>\n",
       "      <td>41.675000</td>\n",
       "      <td>6.426432e+08</td>\n",
       "      <td>70.625000</td>\n",
       "    </tr>\n",
       "    <tr>\n",
       "      <th>max</th>\n",
       "      <td>2019.000000</td>\n",
       "      <td>2.797801e+09</td>\n",
       "      <td>9.366622e+08</td>\n",
       "      <td>64.000000</td>\n",
       "      <td>2.029931e+09</td>\n",
       "      <td>99.700000</td>\n",
       "    </tr>\n",
       "  </tbody>\n",
       "</table>\n",
       "</div>"
      ],
      "text/plain": [
       "              Year  Worldwide Lifetime Gross  Domestic Lifetime Gross  \\\n",
       "count   200.000000              2.000000e+02             2.000000e+02   \n",
       "mean   2011.015000              8.534427e+08             2.997719e+08   \n",
       "std       7.116036              3.458209e+08             1.414445e+08   \n",
       "min    1977.000000              5.279659e+08             1.543547e+06   \n",
       "25%    2007.750000              6.238815e+08             2.091848e+08   \n",
       "50%    2013.000000              7.664029e+08             2.860709e+08   \n",
       "75%    2016.000000              9.670434e+08             3.633033e+08   \n",
       "max    2019.000000              2.797801e+09             9.366622e+08   \n",
       "\n",
       "       Domestic %  Foreign Lifetime Gross   Foreign %  \n",
       "count  200.000000            2.000000e+02  200.000000  \n",
       "mean    35.211500            5.536707e+08   64.788500  \n",
       "std     10.503295            2.477057e+08   10.503295  \n",
       "min      0.300000            1.973000e+08   36.000000  \n",
       "25%     29.375000            4.011319e+08   58.325000  \n",
       "50%     34.800000            4.929737e+08   65.200000  \n",
       "75%     41.675000            6.426432e+08   70.625000  \n",
       "max     64.000000            2.029931e+09   99.700000  "
      ]
     },
     "execution_count": 79,
     "metadata": {},
     "output_type": "execute_result"
    }
   ],
   "source": [
    "df.describe()"
   ]
  },
  {
   "cell_type": "markdown",
   "metadata": {},
   "source": [
    "From here we can see that the average worldwide gross earning for the top 200 movies of all time is $853,442,700. From this value we can provide a more detailed analysis that will show us the top 10 movies that earned above average in their worldwide grossing. Another thing we could do is see if we can find a coorelation between release year and the average grossing from Domestic releases."
   ]
  },
  {
   "cell_type": "code",
   "execution_count": 265,
   "metadata": {},
   "outputs": [],
   "source": [
    "index = df.groupby(['Year'])['Domestic %'].mean().index\n",
    "values = df.groupby(['Year'])['Domestic %'].mean().values"
   ]
  },
  {
   "cell_type": "markdown",
   "metadata": {},
   "source": [
    "Now we have our variable esablished. We can now plot and visualize our data."
   ]
  },
  {
   "cell_type": "markdown",
   "metadata": {},
   "source": [
    "# Data Visualizations"
   ]
  },
  {
   "cell_type": "code",
   "execution_count": 181,
   "metadata": {},
   "outputs": [],
   "source": [
    "# import necessary packages\n",
    "import matplotlib.pyplot as plt\n",
    "# for more visually pleasing visualizations, import seasborn package\n",
    "import seaborn as sns\n",
    "# Set aesthetic parameters\n",
    "sns.set()\n",
    "# select a syle for your plots\n",
    "plt.style.use('seaborn-pastel')"
   ]
  },
  {
   "cell_type": "code",
   "execution_count": 275,
   "metadata": {},
   "outputs": [
    {
     "data": {
      "image/png": "[encoded data removed]",
      "text/plain": [
       "<Figure size 432x288 with 1 Axes>"
      ]
     },
     "metadata": {},
     "output_type": "display_data"
    }
   ],
   "source": [
    "# Make the visuals pretty\n",
    "fig,ax = plt.subplots()\n",
    "ax.barh(wwx,wwy, color = 'cornflowerblue', edgecolor = 'midnightblue', alpha = 0.5)\n",
    "ax.set_title('Top 10 Worldwide Lifetime Movie Grossing', weight = 'bold')\n",
    "ax.set_xlabel('Gross Earning (billions)', weight = 'bold')\n",
    "ax.set_ylabel('Movie Titles')\n",
    "# save these graphs as images for easy acess\n",
    "plt.savefig('top_10_ww_grossing.png')"
   ]
  },
  {
   "cell_type": "code",
   "execution_count": 227,
   "metadata": {
    "scrolled": true
   },
   "outputs": [
    {
     "data": {
      "text/plain": [
       "Text(0.5, 0, 'Gross Earning (billions)')"
      ]
     },
     "execution_count": 227,
     "metadata": {},
     "output_type": "execute_result"
    },
    {
     "data": {
      "image/png": "[encoded data removed]",
      "text/plain": [
       "<Figure size 432x288 with 2 Axes>"
      ]
     },
     "metadata": {},
     "output_type": "display_data"
    }
   ],
   "source": [
    "# exablish\n",
    "fig, (ax_dom, ax_fore) = plt.subplots(1,2)\n",
    "ax_dom.barh(domx,domy, color = 'coral', ec = 'darkred', alpha = 0.5)\n",
    "ax_dom.set_title('Top 5 Movies Domestic', weight = 'bold')\n",
    "ax_dom.set_xlabel('Gross Earning (milions)', weight = 'bold')\n",
    "ax_dom.set_ylabel('Movie Titles')\n",
    "ax_fore.barh(forx,fory, color = 'darkkhaki', ec = 'forestgreen', alpha = 0.5)\n",
    "ax_fore.set_title('Top 5 Movies Foreign', weight = 'bold')\n",
    "ax_fore.set_xlabel('Gross Earning (billions)', weight = 'bold')\n",
    "# save these graphs as images for easy acess\n",
    "# plt.savefig('top_5_dom_fore_grossing.png')"
   ]
  },
  {
   "cell_type": "code",
   "execution_count": 274,
   "metadata": {},
   "outputs": [
    {
     "data": {
      "image/png": "[encoded data removed]",
      "text/plain": [
       "<Figure size 432x288 with 1 Axes>"
      ]
     },
     "metadata": {},
     "output_type": "display_data"
    }
   ],
   "source": [
    "fig, ax = plt.subplots()\n",
    "ax.plot(index,values, color = 'indigo')\n",
    "ax.set_title('Gross Domestic Contribution by Year', weight = 'bold')\n",
    "ax.set_xlabel('Movie Release Year', weight = 'bold')\n",
    "ax.set_ylabel('Percecnt Domestic Gross Contribution', weight = 'bold')\n",
    "# save these graphs as images for easy acess\n",
    "plt.savefig('dom_perc_year_trend.png')"
   ]
  },
  {
   "cell_type": "code",
   "execution_count": null,
   "metadata": {},
   "outputs": [],
   "source": []
  }
 ],
 "metadata": {
  "kernelspec": {
   "display_name": "learn-env",
   "language": "python",
   "name": "learn-env"
  },
  "language_info": {
   "codemirror_mode": {
    "name": "ipython",
    "version": 3
   },
   "file_extension": ".py",
   "mimetype": "text/x-python",
   "name": "python",
   "nbconvert_exporter": "python",
   "pygments_lexer": "ipython3",
   "version": "3.6.9"
  },
  "toc": {
   "base_numbering": 1,
   "nav_menu": {},
   "number_sections": true,
   "sideBar": true,
   "skip_h1_title": false,
   "title_cell": "Table of Contents",
   "title_sidebar": "Contents",
   "toc_cell": false,
   "toc_position": {},
   "toc_section_display": true,
   "toc_window_display": false
  }
 },
 "nbformat": 4,
 "nbformat_minor": 4
}
