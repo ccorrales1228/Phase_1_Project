{
 "cells": [
  {
   "cell_type": "markdown",
   "metadata": {},
   "source": [
    "# Phase One Project, Corrales\n"
   ]
  },
  {
   "cell_type": "markdown",
   "metadata": {},
   "source": [
    "# IMDB Top 1000 Movie"
   ]
  },
  {
   "cell_type": "code",
   "execution_count": 45,
   "metadata": {},
   "outputs": [],
   "source": [
    "# Loading libraries\n",
    "\n",
    "import pandas as pd\n",
    "import numpy as np\n",
    "import matplotlib.pyplot as plt\n",
    "from matplotlib.ticker import StrMethodFormatter\n",
    "import seaborn as sns\n",
    "plt.style.use('seaborn')\n",
    "\n",
    "import requests\n",
    "from requests import get\n",
    "from bs4 import BeautifulSoup\n",
    "\n",
    "from time import sleep\n",
    "from random import randint\n",
    "\n"
   ]
  },
  {
   "cell_type": "code",
   "execution_count": 2,
   "metadata": {},
   "outputs": [],
   "source": [
    "%%capture\n",
    "from tqdm import tqdm_notebook as tqdm\n",
    "tqdm().pandas()"
   ]
  },
  {
   "cell_type": "code",
   "execution_count": 3,
   "metadata": {},
   "outputs": [
    {
     "name": "stderr",
     "output_type": "stream",
     "text": [
      "<ipython-input-3-adbed5ab6edc>:2: TqdmDeprecationWarning: This function will be removed in tqdm==5.0.0\n",
      "Please use `tqdm.notebook.tqdm` instead of `tqdm.tqdm_notebook`\n",
      "  for i in tqdm(range(5)):\n"
     ]
    },
    {
     "data": {
      "application/vnd.jupyter.widget-view+json": {
       "model_id": "00e9993acda54afc96bed220de6f0bf5",
       "version_major": 2,
       "version_minor": 0
      },
      "text/plain": [
       "HBox(children=(FloatProgress(value=0.0, max=5.0), HTML(value='')))"
      ]
     },
     "metadata": {},
     "output_type": "display_data"
    },
    {
     "name": "stdout",
     "output_type": "stream",
     "text": [
      "\n"
     ]
    }
   ],
   "source": [
    "## wrap the range within the fuction\n",
    "for i in tqdm(range(5)):\n",
    "    sleep(2)"
   ]
  },
  {
   "cell_type": "code",
   "execution_count": 4,
   "metadata": {},
   "outputs": [],
   "source": [
    "# Creating the containers for each section we are scraping\n",
    "\n",
    "titles = []\n",
    "years = []\n",
    "time = []\n",
    "genres = []\n",
    "imdb_ratings = []\n",
    "metascores = []\n",
    "votes = []\n",
    "us_gross = []\n",
    "\n"
   ]
  },
  {
   "cell_type": "code",
   "execution_count": 5,
   "metadata": {},
   "outputs": [],
   "source": [
    "# Translated titles in English for the movies listed\n",
    "\n",
    "headers = {'Accept-Language': 'en-US, en;q=0.5'}"
   ]
  },
  {
   "cell_type": "code",
   "execution_count": 6,
   "metadata": {},
   "outputs": [
    {
     "data": {
      "text/plain": [
       "array([  1,  51, 101, 151, 201, 251, 301, 351, 401, 451, 501, 551, 601,\n",
       "       651, 701, 751, 801, 851, 901, 951])"
      ]
     },
     "execution_count": 6,
     "metadata": {},
     "output_type": "execute_result"
    }
   ],
   "source": [
    "pages = np.arange(1, 1001, 50)\n",
    "pages"
   ]
  },
  {
   "cell_type": "markdown",
   "metadata": {},
   "source": [
    "# Webscrape"
   ]
  },
  {
   "cell_type": "code",
   "execution_count": 7,
   "metadata": {
    "scrolled": true
   },
   "outputs": [
    {
     "name": "stderr",
     "output_type": "stream",
     "text": [
      "<ipython-input-7-ea0e8292e571>:2: TqdmDeprecationWarning: This function will be removed in tqdm==5.0.0\n",
      "Please use `tqdm.notebook.tqdm` instead of `tqdm.tqdm_notebook`\n",
      "  for page in tqdm(pages):\n"
     ]
    },
    {
     "data": {
      "application/vnd.jupyter.widget-view+json": {
       "model_id": "3d921bf833364d50babf6f6f5efbdba6",
       "version_major": 2,
       "version_minor": 0
      },
      "text/plain": [
       "HBox(children=(FloatProgress(value=0.0, max=20.0), HTML(value='')))"
      ]
     },
     "metadata": {},
     "output_type": "display_data"
    },
    {
     "name": "stdout",
     "output_type": "stream",
     "text": [
      "\n"
     ]
    }
   ],
   "source": [
    "# Storing each of the urls of 50 movies per page\n",
    "for page in tqdm(pages):\n",
    "    page = requests.get('https://www.imdb.com/search/title/?groups=top_1000&start=' + str(page) + '&ref_=adv_nxt', headers=headers)\n",
    "    soup = BeautifulSoup(page.text, 'html.parser')\n",
    "\n",
    "# focusing on the are of the html where the data we need to capture is located\n",
    "    movie_div = soup.find_all('div', class_='lister-item mode-advanced')\n",
    "\n",
    "# Setting runtime bettween the loops to for 5-10 seconds on random. \n",
    "# This is was spoken about during the webscraping lecture to avoid looking like a bot\n",
    "    sleep(randint(5,10))\n",
    "\n",
    "    # Creating the for loop\n",
    "    for container in movie_div:\n",
    "\n",
    "    # Scraping for movie titles\n",
    "        name = container.h3.a.text\n",
    "        titles.append(name)\n",
    "\n",
    "    # Scraping the movie years\n",
    "        year = container.h3.find('span', class_='lister-item-year').text\n",
    "        years.append(year)\n",
    "\n",
    "    # Scraping for movie runtime\n",
    "        runtime = container.find('span', class_='runtime').text if container.p.find('span', class_='runtime') else '-'\n",
    "        time.append(runtime)\n",
    "\n",
    "    # Scraping the movie genres\n",
    "        genre = container.find('span', class_='genre').text if container.find('span', class_='metascore') else '-'\n",
    "        genres.append(genre)\n",
    "\n",
    "    # Scraping for ratings\n",
    "        imdb = float(container.strong.text)\n",
    "        imdb_ratings.append(imdb)\n",
    "\n",
    "    # Scraping for metascore\n",
    "        metascore = container.find('span', class_='metascore').text if container.find('span', class_='metascore') else '-'\n",
    "        metascores.append(metascore)\n",
    "        \n",
    "    # Scraping for votes, but if no gross earnings to leave \"-\"\n",
    "        nv = container.find_all('span', attrs={'name':'nv'})\n",
    "        vote = nv[0].text\n",
    "        votes.append(vote)\n",
    "        grosses = nv[1].text if len(nv) > 1 else '-'\n",
    "        us_gross.append(grosses)"
   ]
  },
  {
   "cell_type": "code",
   "execution_count": 8,
   "metadata": {},
   "outputs": [],
   "source": [
    "# creating a Dataframe of all the data scraped\n",
    "\n",
    "#= pd.DataFrame\n",
    "df_dict = ({'movie':titles,'year':years,'time_minute':time,'genre':genres,'imdb_rating':imdb_ratings,'metascore':metascores,'vote':votes,'gross_earning':us_gross})\n",
    "\n",
    "IMDB_TOP1000_movies = pd.DataFrame(df_dict)"
   ]
  },
  {
   "cell_type": "code",
   "execution_count": 9,
   "metadata": {},
   "outputs": [
    {
     "data": {
      "text/html": [
       "<div>\n",
       "<style scoped>\n",
       "    .dataframe tbody tr th:only-of-type {\n",
       "        vertical-align: middle;\n",
       "    }\n",
       "\n",
       "    .dataframe tbody tr th {\n",
       "        vertical-align: top;\n",
       "    }\n",
       "\n",
       "    .dataframe thead th {\n",
       "        text-align: right;\n",
       "    }\n",
       "</style>\n",
       "<table border=\"1\" class=\"dataframe\">\n",
       "  <thead>\n",
       "    <tr style=\"text-align: right;\">\n",
       "      <th></th>\n",
       "      <th>movie</th>\n",
       "      <th>year</th>\n",
       "      <th>time_minute</th>\n",
       "      <th>genre</th>\n",
       "      <th>imdb_rating</th>\n",
       "      <th>metascore</th>\n",
       "      <th>vote</th>\n",
       "      <th>gross_earning</th>\n",
       "    </tr>\n",
       "  </thead>\n",
       "  <tbody>\n",
       "    <tr>\n",
       "      <th>0</th>\n",
       "      <td>The Trial of the Chicago 7</td>\n",
       "      <td>(2020)</td>\n",
       "      <td>129 min</td>\n",
       "      <td>\\nDrama, History, Thriller</td>\n",
       "      <td>7.9</td>\n",
       "      <td>76</td>\n",
       "      <td>52,953</td>\n",
       "      <td>-</td>\n",
       "    </tr>\n",
       "    <tr>\n",
       "      <th>1</th>\n",
       "      <td>Halloween</td>\n",
       "      <td>(1978)</td>\n",
       "      <td>91 min</td>\n",
       "      <td>\\nHorror, Thriller</td>\n",
       "      <td>7.8</td>\n",
       "      <td>87</td>\n",
       "      <td>229,947</td>\n",
       "      <td>$47.00M</td>\n",
       "    </tr>\n",
       "    <tr>\n",
       "      <th>2</th>\n",
       "      <td>Tenet</td>\n",
       "      <td>(2020)</td>\n",
       "      <td>150 min</td>\n",
       "      <td>\\nAction, Sci-Fi</td>\n",
       "      <td>7.8</td>\n",
       "      <td>69</td>\n",
       "      <td>143,836</td>\n",
       "      <td>$53.80M</td>\n",
       "    </tr>\n",
       "    <tr>\n",
       "      <th>3</th>\n",
       "      <td>The Untouchables</td>\n",
       "      <td>(1987)</td>\n",
       "      <td>119 min</td>\n",
       "      <td>\\nCrime, Drama, Thriller</td>\n",
       "      <td>7.9</td>\n",
       "      <td>79</td>\n",
       "      <td>276,756</td>\n",
       "      <td>$76.27M</td>\n",
       "    </tr>\n",
       "    <tr>\n",
       "      <th>4</th>\n",
       "      <td>The Nightmare Before Christmas</td>\n",
       "      <td>(1993)</td>\n",
       "      <td>76 min</td>\n",
       "      <td>\\nAnimation, Family, Fantasy</td>\n",
       "      <td>8.0</td>\n",
       "      <td>82</td>\n",
       "      <td>293,284</td>\n",
       "      <td>$75.08M</td>\n",
       "    </tr>\n",
       "    <tr>\n",
       "      <th>...</th>\n",
       "      <td>...</td>\n",
       "      <td>...</td>\n",
       "      <td>...</td>\n",
       "      <td>...</td>\n",
       "      <td>...</td>\n",
       "      <td>...</td>\n",
       "      <td>...</td>\n",
       "      <td>...</td>\n",
       "    </tr>\n",
       "    <tr>\n",
       "      <th>995</th>\n",
       "      <td>Vizontele</td>\n",
       "      <td>(2001)</td>\n",
       "      <td>110 min</td>\n",
       "      <td>-</td>\n",
       "      <td>8.0</td>\n",
       "      <td>-</td>\n",
       "      <td>32,724</td>\n",
       "      <td>-</td>\n",
       "    </tr>\n",
       "    <tr>\n",
       "      <th>996</th>\n",
       "      <td>The Breath</td>\n",
       "      <td>(2009)</td>\n",
       "      <td>128 min</td>\n",
       "      <td>-</td>\n",
       "      <td>8.0</td>\n",
       "      <td>-</td>\n",
       "      <td>31,461</td>\n",
       "      <td>-</td>\n",
       "    </tr>\n",
       "    <tr>\n",
       "      <th>997</th>\n",
       "      <td>Andaz Apna Apna</td>\n",
       "      <td>(1994)</td>\n",
       "      <td>160 min</td>\n",
       "      <td>-</td>\n",
       "      <td>8.2</td>\n",
       "      <td>-</td>\n",
       "      <td>48,729</td>\n",
       "      <td>-</td>\n",
       "    </tr>\n",
       "    <tr>\n",
       "      <th>998</th>\n",
       "      <td>Drishyam</td>\n",
       "      <td>(2013)</td>\n",
       "      <td>160 min</td>\n",
       "      <td>-</td>\n",
       "      <td>8.3</td>\n",
       "      <td>-</td>\n",
       "      <td>30,133</td>\n",
       "      <td>-</td>\n",
       "    </tr>\n",
       "    <tr>\n",
       "      <th>999</th>\n",
       "      <td>English Vinglish</td>\n",
       "      <td>(2012)</td>\n",
       "      <td>134 min</td>\n",
       "      <td>-</td>\n",
       "      <td>7.8</td>\n",
       "      <td>-</td>\n",
       "      <td>33,080</td>\n",
       "      <td>$1.67M</td>\n",
       "    </tr>\n",
       "  </tbody>\n",
       "</table>\n",
       "<p>1000 rows × 8 columns</p>\n",
       "</div>"
      ],
      "text/plain": [
       "                              movie    year time_minute  \\\n",
       "0        The Trial of the Chicago 7  (2020)     129 min   \n",
       "1                         Halloween  (1978)      91 min   \n",
       "2                             Tenet  (2020)     150 min   \n",
       "3                  The Untouchables  (1987)     119 min   \n",
       "4    The Nightmare Before Christmas  (1993)      76 min   \n",
       "..                              ...     ...         ...   \n",
       "995                       Vizontele  (2001)     110 min   \n",
       "996                      The Breath  (2009)     128 min   \n",
       "997                 Andaz Apna Apna  (1994)     160 min   \n",
       "998                        Drishyam  (2013)     160 min   \n",
       "999                English Vinglish  (2012)     134 min   \n",
       "\n",
       "                                        genre  imdb_rating   metascore  \\\n",
       "0      \\nDrama, History, Thriller                      7.9  76           \n",
       "1              \\nHorror, Thriller                      7.8  87           \n",
       "2                \\nAction, Sci-Fi                      7.8  69           \n",
       "3        \\nCrime, Drama, Thriller                      7.9  79           \n",
       "4    \\nAnimation, Family, Fantasy                      8.0  82           \n",
       "..                                        ...          ...         ...   \n",
       "995                                         -          8.0           -   \n",
       "996                                         -          8.0           -   \n",
       "997                                         -          8.2           -   \n",
       "998                                         -          8.3           -   \n",
       "999                                         -          7.8           -   \n",
       "\n",
       "        vote gross_earning  \n",
       "0     52,953             -  \n",
       "1    229,947       $47.00M  \n",
       "2    143,836       $53.80M  \n",
       "3    276,756       $76.27M  \n",
       "4    293,284       $75.08M  \n",
       "..       ...           ...  \n",
       "995   32,724             -  \n",
       "996   31,461             -  \n",
       "997   48,729             -  \n",
       "998   30,133             -  \n",
       "999   33,080        $1.67M  \n",
       "\n",
       "[1000 rows x 8 columns]"
      ]
     },
     "execution_count": 9,
     "metadata": {},
     "output_type": "execute_result"
    }
   ],
   "source": [
    "IMDB_TOP1000_movies"
   ]
  },
  {
   "cell_type": "markdown",
   "metadata": {},
   "source": [
    "# Data Cleansing"
   ]
  },
  {
   "cell_type": "code",
   "execution_count": 10,
   "metadata": {},
   "outputs": [
    {
     "data": {
      "text/plain": [
       "movie             object\n",
       "year              object\n",
       "time_minute       object\n",
       "genre             object\n",
       "imdb_rating      float64\n",
       "metascore         object\n",
       "vote              object\n",
       "gross_earning     object\n",
       "dtype: object"
      ]
     },
     "execution_count": 10,
     "metadata": {},
     "output_type": "execute_result"
    }
   ],
   "source": [
    "#check the data types\n",
    "IMDB_TOP1000_movies.dtypes"
   ]
  },
  {
   "cell_type": "code",
   "execution_count": 11,
   "metadata": {},
   "outputs": [
    {
     "data": {
      "text/html": [
       "<div>\n",
       "<style scoped>\n",
       "    .dataframe tbody tr th:only-of-type {\n",
       "        vertical-align: middle;\n",
       "    }\n",
       "\n",
       "    .dataframe tbody tr th {\n",
       "        vertical-align: top;\n",
       "    }\n",
       "\n",
       "    .dataframe thead th {\n",
       "        text-align: right;\n",
       "    }\n",
       "</style>\n",
       "<table border=\"1\" class=\"dataframe\">\n",
       "  <thead>\n",
       "    <tr style=\"text-align: right;\">\n",
       "      <th></th>\n",
       "      <th>movie</th>\n",
       "      <th>year</th>\n",
       "      <th>time_minute</th>\n",
       "      <th>genre</th>\n",
       "      <th>imdb_rating</th>\n",
       "      <th>metascore</th>\n",
       "      <th>vote</th>\n",
       "      <th>gross_earning</th>\n",
       "    </tr>\n",
       "  </thead>\n",
       "  <tbody>\n",
       "    <tr>\n",
       "      <th>0</th>\n",
       "      <td>The Trial of the Chicago 7</td>\n",
       "      <td>2020</td>\n",
       "      <td>129 min</td>\n",
       "      <td>\\nDrama, History, Thriller</td>\n",
       "      <td>7.9</td>\n",
       "      <td>76</td>\n",
       "      <td>52,953</td>\n",
       "      <td>-</td>\n",
       "    </tr>\n",
       "    <tr>\n",
       "      <th>1</th>\n",
       "      <td>Halloween</td>\n",
       "      <td>1978</td>\n",
       "      <td>91 min</td>\n",
       "      <td>\\nHorror, Thriller</td>\n",
       "      <td>7.8</td>\n",
       "      <td>87</td>\n",
       "      <td>229,947</td>\n",
       "      <td>$47.00M</td>\n",
       "    </tr>\n",
       "    <tr>\n",
       "      <th>2</th>\n",
       "      <td>Tenet</td>\n",
       "      <td>2020</td>\n",
       "      <td>150 min</td>\n",
       "      <td>\\nAction, Sci-Fi</td>\n",
       "      <td>7.8</td>\n",
       "      <td>69</td>\n",
       "      <td>143,836</td>\n",
       "      <td>$53.80M</td>\n",
       "    </tr>\n",
       "  </tbody>\n",
       "</table>\n",
       "</div>"
      ],
      "text/plain": [
       "                        movie  year time_minute  \\\n",
       "0  The Trial of the Chicago 7  2020     129 min   \n",
       "1                   Halloween  1978      91 min   \n",
       "2                       Tenet  2020     150 min   \n",
       "\n",
       "                                    genre  imdb_rating   metascore     vote  \\\n",
       "0  \\nDrama, History, Thriller                      7.9  76           52,953   \n",
       "1          \\nHorror, Thriller                      7.8  87          229,947   \n",
       "2            \\nAction, Sci-Fi                      7.8  69          143,836   \n",
       "\n",
       "  gross_earning  \n",
       "0             -  \n",
       "1       $47.00M  \n",
       "2       $53.80M  "
      ]
     },
     "execution_count": 11,
     "metadata": {},
     "output_type": "execute_result"
    }
   ],
   "source": [
    "# Cleaning 'year' column\n",
    "#IMDB_TOP1000_movies['year'] = IMDB_TOP1000_movies['year'].replace('(','')\n",
    "IMDB_TOP1000_movies['year'] = IMDB_TOP1000_movies['year'].str.extract('(\\d+)').astype(int)\n",
    "\n",
    "IMDB_TOP1000_movies.head(3)"
   ]
  },
  {
   "cell_type": "code",
   "execution_count": 12,
   "metadata": {},
   "outputs": [
    {
     "data": {
      "text/plain": [
       "movie             object\n",
       "year               int64\n",
       "time_minute       object\n",
       "genre             object\n",
       "imdb_rating      float64\n",
       "metascore         object\n",
       "vote              object\n",
       "gross_earning     object\n",
       "dtype: object"
      ]
     },
     "execution_count": 12,
     "metadata": {},
     "output_type": "execute_result"
    }
   ],
   "source": [
    "IMDB_TOP1000_movies.dtypes"
   ]
  },
  {
   "cell_type": "code",
   "execution_count": 13,
   "metadata": {},
   "outputs": [
    {
     "data": {
      "text/html": [
       "<div>\n",
       "<style scoped>\n",
       "    .dataframe tbody tr th:only-of-type {\n",
       "        vertical-align: middle;\n",
       "    }\n",
       "\n",
       "    .dataframe tbody tr th {\n",
       "        vertical-align: top;\n",
       "    }\n",
       "\n",
       "    .dataframe thead th {\n",
       "        text-align: right;\n",
       "    }\n",
       "</style>\n",
       "<table border=\"1\" class=\"dataframe\">\n",
       "  <thead>\n",
       "    <tr style=\"text-align: right;\">\n",
       "      <th></th>\n",
       "      <th>movie</th>\n",
       "      <th>year</th>\n",
       "      <th>time_minute</th>\n",
       "      <th>genre</th>\n",
       "      <th>imdb_rating</th>\n",
       "      <th>metascore</th>\n",
       "      <th>vote</th>\n",
       "      <th>gross_earning</th>\n",
       "    </tr>\n",
       "  </thead>\n",
       "  <tbody>\n",
       "    <tr>\n",
       "      <th>0</th>\n",
       "      <td>The Trial of the Chicago 7</td>\n",
       "      <td>2020</td>\n",
       "      <td>129</td>\n",
       "      <td>\\nDrama, History, Thriller</td>\n",
       "      <td>7.9</td>\n",
       "      <td>76</td>\n",
       "      <td>52,953</td>\n",
       "      <td>-</td>\n",
       "    </tr>\n",
       "    <tr>\n",
       "      <th>1</th>\n",
       "      <td>Halloween</td>\n",
       "      <td>1978</td>\n",
       "      <td>91</td>\n",
       "      <td>\\nHorror, Thriller</td>\n",
       "      <td>7.8</td>\n",
       "      <td>87</td>\n",
       "      <td>229,947</td>\n",
       "      <td>$47.00M</td>\n",
       "    </tr>\n",
       "    <tr>\n",
       "      <th>2</th>\n",
       "      <td>Tenet</td>\n",
       "      <td>2020</td>\n",
       "      <td>150</td>\n",
       "      <td>\\nAction, Sci-Fi</td>\n",
       "      <td>7.8</td>\n",
       "      <td>69</td>\n",
       "      <td>143,836</td>\n",
       "      <td>$53.80M</td>\n",
       "    </tr>\n",
       "  </tbody>\n",
       "</table>\n",
       "</div>"
      ],
      "text/plain": [
       "                        movie  year  time_minute  \\\n",
       "0  The Trial of the Chicago 7  2020          129   \n",
       "1                   Halloween  1978           91   \n",
       "2                       Tenet  2020          150   \n",
       "\n",
       "                                    genre  imdb_rating   metascore     vote  \\\n",
       "0  \\nDrama, History, Thriller                      7.9  76           52,953   \n",
       "1          \\nHorror, Thriller                      7.8  87          229,947   \n",
       "2            \\nAction, Sci-Fi                      7.8  69          143,836   \n",
       "\n",
       "  gross_earning  \n",
       "0             -  \n",
       "1       $47.00M  \n",
       "2       $53.80M  "
      ]
     },
     "execution_count": 13,
     "metadata": {},
     "output_type": "execute_result"
    }
   ],
   "source": [
    "#Cleaning the 'time_minute' column\n",
    "IMDB_TOP1000_movies['time_minute'] = IMDB_TOP1000_movies['time_minute'].str.extract('(\\d+)').astype(int)\n",
    "\n",
    "IMDB_TOP1000_movies.head(3)"
   ]
  },
  {
   "cell_type": "code",
   "execution_count": 14,
   "metadata": {},
   "outputs": [
    {
     "data": {
      "text/plain": [
       "movie             object\n",
       "year               int64\n",
       "time_minute        int64\n",
       "genre             object\n",
       "imdb_rating      float64\n",
       "metascore         object\n",
       "vote              object\n",
       "gross_earning     object\n",
       "dtype: object"
      ]
     },
     "execution_count": 14,
     "metadata": {},
     "output_type": "execute_result"
    }
   ],
   "source": [
    "IMDB_TOP1000_movies.dtypes"
   ]
  },
  {
   "cell_type": "code",
   "execution_count": 15,
   "metadata": {},
   "outputs": [],
   "source": [
    "# Cleaning 'metascore' column and convert it to float and if there are dashes turn it into NaN\n",
    "IMDB_TOP1000_movies['metascore'] = IMDB_TOP1000_movies['metascore'].str.extract('(\\d+)')\n",
    "IMDB_TOP1000_movies['metascore'] = pd.to_numeric(IMDB_TOP1000_movies['metascore'], errors='coerce')"
   ]
  },
  {
   "cell_type": "code",
   "execution_count": 16,
   "metadata": {
    "scrolled": true
   },
   "outputs": [
    {
     "data": {
      "text/plain": [
       "movie             object\n",
       "year               int64\n",
       "time_minute        int64\n",
       "genre             object\n",
       "imdb_rating      float64\n",
       "metascore        float64\n",
       "vote              object\n",
       "gross_earning     object\n",
       "dtype: object"
      ]
     },
     "execution_count": 16,
     "metadata": {},
     "output_type": "execute_result"
    }
   ],
   "source": [
    "IMDB_TOP1000_movies.dtypes"
   ]
  },
  {
   "cell_type": "code",
   "execution_count": 17,
   "metadata": {},
   "outputs": [
    {
     "data": {
      "text/html": [
       "<div>\n",
       "<style scoped>\n",
       "    .dataframe tbody tr th:only-of-type {\n",
       "        vertical-align: middle;\n",
       "    }\n",
       "\n",
       "    .dataframe tbody tr th {\n",
       "        vertical-align: top;\n",
       "    }\n",
       "\n",
       "    .dataframe thead th {\n",
       "        text-align: right;\n",
       "    }\n",
       "</style>\n",
       "<table border=\"1\" class=\"dataframe\">\n",
       "  <thead>\n",
       "    <tr style=\"text-align: right;\">\n",
       "      <th></th>\n",
       "      <th>movie</th>\n",
       "      <th>year</th>\n",
       "      <th>time_minute</th>\n",
       "      <th>genre</th>\n",
       "      <th>imdb_rating</th>\n",
       "      <th>metascore</th>\n",
       "      <th>vote</th>\n",
       "      <th>gross_earning</th>\n",
       "    </tr>\n",
       "  </thead>\n",
       "  <tbody>\n",
       "    <tr>\n",
       "      <th>0</th>\n",
       "      <td>The Trial of the Chicago 7</td>\n",
       "      <td>2020</td>\n",
       "      <td>129</td>\n",
       "      <td>\\nDrama, History, Thriller</td>\n",
       "      <td>7.9</td>\n",
       "      <td>76.0</td>\n",
       "      <td>52953</td>\n",
       "      <td>-</td>\n",
       "    </tr>\n",
       "    <tr>\n",
       "      <th>1</th>\n",
       "      <td>Halloween</td>\n",
       "      <td>1978</td>\n",
       "      <td>91</td>\n",
       "      <td>\\nHorror, Thriller</td>\n",
       "      <td>7.8</td>\n",
       "      <td>87.0</td>\n",
       "      <td>229947</td>\n",
       "      <td>$47.00M</td>\n",
       "    </tr>\n",
       "    <tr>\n",
       "      <th>2</th>\n",
       "      <td>Tenet</td>\n",
       "      <td>2020</td>\n",
       "      <td>150</td>\n",
       "      <td>\\nAction, Sci-Fi</td>\n",
       "      <td>7.8</td>\n",
       "      <td>69.0</td>\n",
       "      <td>143836</td>\n",
       "      <td>$53.80M</td>\n",
       "    </tr>\n",
       "  </tbody>\n",
       "</table>\n",
       "</div>"
      ],
      "text/plain": [
       "                        movie  year  time_minute  \\\n",
       "0  The Trial of the Chicago 7  2020          129   \n",
       "1                   Halloween  1978           91   \n",
       "2                       Tenet  2020          150   \n",
       "\n",
       "                                    genre  imdb_rating  metascore    vote  \\\n",
       "0  \\nDrama, History, Thriller                      7.9       76.0   52953   \n",
       "1          \\nHorror, Thriller                      7.8       87.0  229947   \n",
       "2            \\nAction, Sci-Fi                      7.8       69.0  143836   \n",
       "\n",
       "  gross_earning  \n",
       "0             -  \n",
       "1       $47.00M  \n",
       "2       $53.80M  "
      ]
     },
     "execution_count": 17,
     "metadata": {},
     "output_type": "execute_result"
    }
   ],
   "source": [
    "# Cleaning 'vote' column\n",
    "IMDB_TOP1000_movies['vote'] = IMDB_TOP1000_movies['vote'].str.replace(',', '').astype(int)\n",
    "IMDB_TOP1000_movies.head(3)"
   ]
  },
  {
   "cell_type": "code",
   "execution_count": 18,
   "metadata": {},
   "outputs": [
    {
     "data": {
      "text/plain": [
       "movie             object\n",
       "year               int64\n",
       "time_minute        int64\n",
       "genre             object\n",
       "imdb_rating      float64\n",
       "metascore        float64\n",
       "vote               int64\n",
       "gross_earning     object\n",
       "dtype: object"
      ]
     },
     "execution_count": 18,
     "metadata": {},
     "output_type": "execute_result"
    }
   ],
   "source": [
    "IMDB_TOP1000_movies.dtypes"
   ]
  },
  {
   "cell_type": "code",
   "execution_count": 19,
   "metadata": {},
   "outputs": [
    {
     "data": {
      "text/html": [
       "<div>\n",
       "<style scoped>\n",
       "    .dataframe tbody tr th:only-of-type {\n",
       "        vertical-align: middle;\n",
       "    }\n",
       "\n",
       "    .dataframe tbody tr th {\n",
       "        vertical-align: top;\n",
       "    }\n",
       "\n",
       "    .dataframe thead th {\n",
       "        text-align: right;\n",
       "    }\n",
       "</style>\n",
       "<table border=\"1\" class=\"dataframe\">\n",
       "  <thead>\n",
       "    <tr style=\"text-align: right;\">\n",
       "      <th></th>\n",
       "      <th>movie</th>\n",
       "      <th>year</th>\n",
       "      <th>time_minute</th>\n",
       "      <th>genre</th>\n",
       "      <th>imdb_rating</th>\n",
       "      <th>metascore</th>\n",
       "      <th>vote</th>\n",
       "      <th>gross_earning</th>\n",
       "    </tr>\n",
       "  </thead>\n",
       "  <tbody>\n",
       "    <tr>\n",
       "      <th>0</th>\n",
       "      <td>The Trial of the Chicago 7</td>\n",
       "      <td>2020</td>\n",
       "      <td>129</td>\n",
       "      <td>\\nDrama, History, Thriller</td>\n",
       "      <td>7.9</td>\n",
       "      <td>76.0</td>\n",
       "      <td>52953</td>\n",
       "      <td>NaN</td>\n",
       "    </tr>\n",
       "    <tr>\n",
       "      <th>1</th>\n",
       "      <td>Halloween</td>\n",
       "      <td>1978</td>\n",
       "      <td>91</td>\n",
       "      <td>\\nHorror, Thriller</td>\n",
       "      <td>7.8</td>\n",
       "      <td>87.0</td>\n",
       "      <td>229947</td>\n",
       "      <td>47.0</td>\n",
       "    </tr>\n",
       "    <tr>\n",
       "      <th>2</th>\n",
       "      <td>Tenet</td>\n",
       "      <td>2020</td>\n",
       "      <td>150</td>\n",
       "      <td>\\nAction, Sci-Fi</td>\n",
       "      <td>7.8</td>\n",
       "      <td>69.0</td>\n",
       "      <td>143836</td>\n",
       "      <td>53.8</td>\n",
       "    </tr>\n",
       "  </tbody>\n",
       "</table>\n",
       "</div>"
      ],
      "text/plain": [
       "                        movie  year  time_minute  \\\n",
       "0  The Trial of the Chicago 7  2020          129   \n",
       "1                   Halloween  1978           91   \n",
       "2                       Tenet  2020          150   \n",
       "\n",
       "                                    genre  imdb_rating  metascore    vote  \\\n",
       "0  \\nDrama, History, Thriller                      7.9       76.0   52953   \n",
       "1          \\nHorror, Thriller                      7.8       87.0  229947   \n",
       "2            \\nAction, Sci-Fi                      7.8       69.0  143836   \n",
       "\n",
       "   gross_earning  \n",
       "0            NaN  \n",
       "1           47.0  \n",
       "2           53.8  "
      ]
     },
     "execution_count": 19,
     "metadata": {},
     "output_type": "execute_result"
    }
   ],
   "source": [
    "# Cleaning 'gross_earning' column\n",
    "# left strip $ and right strip M \n",
    "# convert it to float and if there are dashes turn it into NaN\n",
    "IMDB_TOP1000_movies['gross_earning'] = IMDB_TOP1000_movies['gross_earning'].map(lambda x: x.lstrip('$').rstrip('M'))\n",
    "IMDB_TOP1000_movies['gross_earning'] = pd.to_numeric(IMDB_TOP1000_movies['gross_earning'], errors='coerce')\n",
    "IMDB_TOP1000_movies.head(3)"
   ]
  },
  {
   "cell_type": "code",
   "execution_count": 20,
   "metadata": {},
   "outputs": [
    {
     "data": {
      "text/plain": [
       "movie             object\n",
       "year               int64\n",
       "time_minute        int64\n",
       "genre             object\n",
       "imdb_rating      float64\n",
       "metascore        float64\n",
       "vote               int64\n",
       "gross_earning    float64\n",
       "dtype: object"
      ]
     },
     "execution_count": 20,
     "metadata": {},
     "output_type": "execute_result"
    }
   ],
   "source": [
    "IMDB_TOP1000_movies.dtypes"
   ]
  },
  {
   "cell_type": "code",
   "execution_count": 21,
   "metadata": {},
   "outputs": [
    {
     "data": {
      "text/html": [
       "<div>\n",
       "<style scoped>\n",
       "    .dataframe tbody tr th:only-of-type {\n",
       "        vertical-align: middle;\n",
       "    }\n",
       "\n",
       "    .dataframe tbody tr th {\n",
       "        vertical-align: top;\n",
       "    }\n",
       "\n",
       "    .dataframe thead th {\n",
       "        text-align: right;\n",
       "    }\n",
       "</style>\n",
       "<table border=\"1\" class=\"dataframe\">\n",
       "  <thead>\n",
       "    <tr style=\"text-align: right;\">\n",
       "      <th></th>\n",
       "      <th>movie</th>\n",
       "      <th>year</th>\n",
       "      <th>time_minute</th>\n",
       "      <th>genre</th>\n",
       "      <th>imdb_rating</th>\n",
       "      <th>metascore</th>\n",
       "      <th>vote</th>\n",
       "      <th>gross_earning</th>\n",
       "    </tr>\n",
       "  </thead>\n",
       "  <tbody>\n",
       "    <tr>\n",
       "      <th>0</th>\n",
       "      <td>The Trial of the Chicago 7</td>\n",
       "      <td>2020</td>\n",
       "      <td>129</td>\n",
       "      <td>Drama, History, Thriller</td>\n",
       "      <td>7.9</td>\n",
       "      <td>76.0</td>\n",
       "      <td>52953</td>\n",
       "      <td>NaN</td>\n",
       "    </tr>\n",
       "    <tr>\n",
       "      <th>1</th>\n",
       "      <td>Halloween</td>\n",
       "      <td>1978</td>\n",
       "      <td>91</td>\n",
       "      <td>Horror, Thriller</td>\n",
       "      <td>7.8</td>\n",
       "      <td>87.0</td>\n",
       "      <td>229947</td>\n",
       "      <td>47.0</td>\n",
       "    </tr>\n",
       "    <tr>\n",
       "      <th>2</th>\n",
       "      <td>Tenet</td>\n",
       "      <td>2020</td>\n",
       "      <td>150</td>\n",
       "      <td>Action, Sci Fi</td>\n",
       "      <td>7.8</td>\n",
       "      <td>69.0</td>\n",
       "      <td>143836</td>\n",
       "      <td>53.8</td>\n",
       "    </tr>\n",
       "  </tbody>\n",
       "</table>\n",
       "</div>"
      ],
      "text/plain": [
       "                        movie  year  time_minute  \\\n",
       "0  The Trial of the Chicago 7  2020          129   \n",
       "1                   Halloween  1978           91   \n",
       "2                       Tenet  2020          150   \n",
       "\n",
       "                                  genre  imdb_rating  metascore    vote  \\\n",
       "0  Drama, History, Thriller                      7.9       76.0   52953   \n",
       "1          Horror, Thriller                      7.8       87.0  229947   \n",
       "2            Action, Sci Fi                      7.8       69.0  143836   \n",
       "\n",
       "   gross_earning  \n",
       "0            NaN  \n",
       "1           47.0  \n",
       "2           53.8  "
      ]
     },
     "execution_count": 21,
     "metadata": {},
     "output_type": "execute_result"
    }
   ],
   "source": [
    "#Cleaning 'genre' column\n",
    "IMDB_TOP1000_movies['genre'] = IMDB_TOP1000_movies['genre'].str.replace('\\n','')\n",
    "IMDB_TOP1000_movies['genre'] = IMDB_TOP1000_movies['genre'].str.replace('-','NaN')\n",
    "IMDB_TOP1000_movies['genre'] = IMDB_TOP1000_movies['genre'].str.replace('SciNaNFi','Sci Fi')\n",
    "\n",
    "IMDB_TOP1000_movies.head(3)"
   ]
  },
  {
   "cell_type": "code",
   "execution_count": 22,
   "metadata": {
    "scrolled": true
   },
   "outputs": [
    {
     "data": {
      "text/html": [
       "<div>\n",
       "<style scoped>\n",
       "    .dataframe tbody tr th:only-of-type {\n",
       "        vertical-align: middle;\n",
       "    }\n",
       "\n",
       "    .dataframe tbody tr th {\n",
       "        vertical-align: top;\n",
       "    }\n",
       "\n",
       "    .dataframe thead th {\n",
       "        text-align: right;\n",
       "    }\n",
       "</style>\n",
       "<table border=\"1\" class=\"dataframe\">\n",
       "  <thead>\n",
       "    <tr style=\"text-align: right;\">\n",
       "      <th></th>\n",
       "      <th>movie</th>\n",
       "      <th>year</th>\n",
       "      <th>time_minute</th>\n",
       "      <th>genre</th>\n",
       "      <th>imdb_rating</th>\n",
       "      <th>metascore</th>\n",
       "      <th>vote</th>\n",
       "      <th>gross_earning</th>\n",
       "    </tr>\n",
       "  </thead>\n",
       "  <tbody>\n",
       "    <tr>\n",
       "      <th>0</th>\n",
       "      <td>The Trial of the Chicago 7</td>\n",
       "      <td>2020</td>\n",
       "      <td>129</td>\n",
       "      <td>Drama, History, Thriller</td>\n",
       "      <td>7.9</td>\n",
       "      <td>76.0</td>\n",
       "      <td>52953</td>\n",
       "      <td>NaN</td>\n",
       "    </tr>\n",
       "    <tr>\n",
       "      <th>1</th>\n",
       "      <td>Halloween</td>\n",
       "      <td>1978</td>\n",
       "      <td>91</td>\n",
       "      <td>Horror, Thriller</td>\n",
       "      <td>7.8</td>\n",
       "      <td>87.0</td>\n",
       "      <td>229947</td>\n",
       "      <td>47.00</td>\n",
       "    </tr>\n",
       "    <tr>\n",
       "      <th>2</th>\n",
       "      <td>Tenet</td>\n",
       "      <td>2020</td>\n",
       "      <td>150</td>\n",
       "      <td>Action, Sci Fi</td>\n",
       "      <td>7.8</td>\n",
       "      <td>69.0</td>\n",
       "      <td>143836</td>\n",
       "      <td>53.80</td>\n",
       "    </tr>\n",
       "    <tr>\n",
       "      <th>3</th>\n",
       "      <td>The Untouchables</td>\n",
       "      <td>1987</td>\n",
       "      <td>119</td>\n",
       "      <td>Crime, Drama, Thriller</td>\n",
       "      <td>7.9</td>\n",
       "      <td>79.0</td>\n",
       "      <td>276756</td>\n",
       "      <td>76.27</td>\n",
       "    </tr>\n",
       "    <tr>\n",
       "      <th>4</th>\n",
       "      <td>The Nightmare Before Christmas</td>\n",
       "      <td>1993</td>\n",
       "      <td>76</td>\n",
       "      <td>Animation, Family, Fantasy</td>\n",
       "      <td>8.0</td>\n",
       "      <td>82.0</td>\n",
       "      <td>293284</td>\n",
       "      <td>75.08</td>\n",
       "    </tr>\n",
       "    <tr>\n",
       "      <th>...</th>\n",
       "      <td>...</td>\n",
       "      <td>...</td>\n",
       "      <td>...</td>\n",
       "      <td>...</td>\n",
       "      <td>...</td>\n",
       "      <td>...</td>\n",
       "      <td>...</td>\n",
       "      <td>...</td>\n",
       "    </tr>\n",
       "    <tr>\n",
       "      <th>995</th>\n",
       "      <td>Vizontele</td>\n",
       "      <td>2001</td>\n",
       "      <td>110</td>\n",
       "      <td>NaN</td>\n",
       "      <td>8.0</td>\n",
       "      <td>NaN</td>\n",
       "      <td>32724</td>\n",
       "      <td>NaN</td>\n",
       "    </tr>\n",
       "    <tr>\n",
       "      <th>996</th>\n",
       "      <td>The Breath</td>\n",
       "      <td>2009</td>\n",
       "      <td>128</td>\n",
       "      <td>NaN</td>\n",
       "      <td>8.0</td>\n",
       "      <td>NaN</td>\n",
       "      <td>31461</td>\n",
       "      <td>NaN</td>\n",
       "    </tr>\n",
       "    <tr>\n",
       "      <th>997</th>\n",
       "      <td>Andaz Apna Apna</td>\n",
       "      <td>1994</td>\n",
       "      <td>160</td>\n",
       "      <td>NaN</td>\n",
       "      <td>8.2</td>\n",
       "      <td>NaN</td>\n",
       "      <td>48729</td>\n",
       "      <td>NaN</td>\n",
       "    </tr>\n",
       "    <tr>\n",
       "      <th>998</th>\n",
       "      <td>Drishyam</td>\n",
       "      <td>2013</td>\n",
       "      <td>160</td>\n",
       "      <td>NaN</td>\n",
       "      <td>8.3</td>\n",
       "      <td>NaN</td>\n",
       "      <td>30133</td>\n",
       "      <td>NaN</td>\n",
       "    </tr>\n",
       "    <tr>\n",
       "      <th>999</th>\n",
       "      <td>English Vinglish</td>\n",
       "      <td>2012</td>\n",
       "      <td>134</td>\n",
       "      <td>NaN</td>\n",
       "      <td>7.8</td>\n",
       "      <td>NaN</td>\n",
       "      <td>33080</td>\n",
       "      <td>1.67</td>\n",
       "    </tr>\n",
       "  </tbody>\n",
       "</table>\n",
       "<p>1000 rows × 8 columns</p>\n",
       "</div>"
      ],
      "text/plain": [
       "                              movie  year  time_minute  \\\n",
       "0        The Trial of the Chicago 7  2020          129   \n",
       "1                         Halloween  1978           91   \n",
       "2                             Tenet  2020          150   \n",
       "3                  The Untouchables  1987          119   \n",
       "4    The Nightmare Before Christmas  1993           76   \n",
       "..                              ...   ...          ...   \n",
       "995                       Vizontele  2001          110   \n",
       "996                      The Breath  2009          128   \n",
       "997                 Andaz Apna Apna  1994          160   \n",
       "998                        Drishyam  2013          160   \n",
       "999                English Vinglish  2012          134   \n",
       "\n",
       "                                      genre  imdb_rating  metascore    vote  \\\n",
       "0      Drama, History, Thriller                      7.9       76.0   52953   \n",
       "1              Horror, Thriller                      7.8       87.0  229947   \n",
       "2                Action, Sci Fi                      7.8       69.0  143836   \n",
       "3        Crime, Drama, Thriller                      7.9       79.0  276756   \n",
       "4    Animation, Family, Fantasy                      8.0       82.0  293284   \n",
       "..                                      ...          ...        ...     ...   \n",
       "995                                     NaN          8.0        NaN   32724   \n",
       "996                                     NaN          8.0        NaN   31461   \n",
       "997                                     NaN          8.2        NaN   48729   \n",
       "998                                     NaN          8.3        NaN   30133   \n",
       "999                                     NaN          7.8        NaN   33080   \n",
       "\n",
       "     gross_earning  \n",
       "0              NaN  \n",
       "1            47.00  \n",
       "2            53.80  \n",
       "3            76.27  \n",
       "4            75.08  \n",
       "..             ...  \n",
       "995            NaN  \n",
       "996            NaN  \n",
       "997            NaN  \n",
       "998            NaN  \n",
       "999           1.67  \n",
       "\n",
       "[1000 rows x 8 columns]"
      ]
     },
     "execution_count": 22,
     "metadata": {},
     "output_type": "execute_result"
    }
   ],
   "source": [
    "IMDB_TOP1000_movies"
   ]
  },
  {
   "cell_type": "code",
   "execution_count": 23,
   "metadata": {
    "scrolled": true
   },
   "outputs": [
    {
     "data": {
      "text/plain": [
       "<bound method DataFrame.sum of      movie   year  time_minute  genre  imdb_rating  metascore   vote  \\\n",
       "0    False  False        False  False        False      False  False   \n",
       "1    False  False        False  False        False      False  False   \n",
       "2    False  False        False  False        False      False  False   \n",
       "3    False  False        False  False        False      False  False   \n",
       "4    False  False        False  False        False      False  False   \n",
       "..     ...    ...          ...    ...          ...        ...    ...   \n",
       "995  False  False        False  False        False       True  False   \n",
       "996  False  False        False  False        False       True  False   \n",
       "997  False  False        False  False        False       True  False   \n",
       "998  False  False        False  False        False       True  False   \n",
       "999  False  False        False  False        False       True  False   \n",
       "\n",
       "     gross_earning  \n",
       "0             True  \n",
       "1            False  \n",
       "2            False  \n",
       "3            False  \n",
       "4            False  \n",
       "..             ...  \n",
       "995           True  \n",
       "996           True  \n",
       "997           True  \n",
       "998           True  \n",
       "999          False  \n",
       "\n",
       "[1000 rows x 8 columns]>"
      ]
     },
     "execution_count": 23,
     "metadata": {},
     "output_type": "execute_result"
    }
   ],
   "source": [
    "#Checking for null and Nan values\n",
    "IMDB_TOP1000_movies.isnull().sum"
   ]
  },
  {
   "cell_type": "code",
   "execution_count": 24,
   "metadata": {},
   "outputs": [
    {
     "data": {
      "text/plain": [
       "<bound method DataFrame.sum of      movie   year  time_minute  genre  imdb_rating  metascore   vote  \\\n",
       "1    False  False        False  False        False      False  False   \n",
       "2    False  False        False  False        False      False  False   \n",
       "3    False  False        False  False        False      False  False   \n",
       "4    False  False        False  False        False      False  False   \n",
       "6    False  False        False  False        False      False  False   \n",
       "..     ...    ...          ...    ...          ...        ...    ...   \n",
       "974  False  False        False  False        False      False  False   \n",
       "978  False  False        False  False        False      False  False   \n",
       "983  False  False        False  False        False      False  False   \n",
       "984  False  False        False  False        False      False  False   \n",
       "985  False  False        False  False        False      False  False   \n",
       "\n",
       "     gross_earning  \n",
       "1            False  \n",
       "2            False  \n",
       "3            False  \n",
       "4            False  \n",
       "6            False  \n",
       "..             ...  \n",
       "974          False  \n",
       "978          False  \n",
       "983          False  \n",
       "984          False  \n",
       "985          False  \n",
       "\n",
       "[760 rows x 8 columns]>"
      ]
     },
     "execution_count": 24,
     "metadata": {},
     "output_type": "execute_result"
    }
   ],
   "source": [
    "#Dropping null and Nan values\n",
    "IMDB_TOP1000_movies = IMDB_TOP1000_movies.dropna()\n",
    "IMDB_TOP1000_movies.isnull().sum"
   ]
  },
  {
   "cell_type": "code",
   "execution_count": 25,
   "metadata": {},
   "outputs": [],
   "source": [
    "#Creating the CSV\n",
    "IMDB_TOP1000_movies.to_csv('TOP1000_test.csv')"
   ]
  },
  {
   "cell_type": "code",
   "execution_count": 26,
   "metadata": {},
   "outputs": [
    {
     "data": {
      "text/plain": [
       "<bound method DataFrame.sum of      movie   year  time_minute  genre  imdb_rating  metascore   vote  \\\n",
       "1    False  False        False  False        False      False  False   \n",
       "2    False  False        False  False        False      False  False   \n",
       "3    False  False        False  False        False      False  False   \n",
       "4    False  False        False  False        False      False  False   \n",
       "6    False  False        False  False        False      False  False   \n",
       "..     ...    ...          ...    ...          ...        ...    ...   \n",
       "974  False  False        False  False        False      False  False   \n",
       "978  False  False        False  False        False      False  False   \n",
       "983  False  False        False  False        False      False  False   \n",
       "984  False  False        False  False        False      False  False   \n",
       "985  False  False        False  False        False      False  False   \n",
       "\n",
       "     gross_earning  \n",
       "1            False  \n",
       "2            False  \n",
       "3            False  \n",
       "4            False  \n",
       "6            False  \n",
       "..             ...  \n",
       "974          False  \n",
       "978          False  \n",
       "983          False  \n",
       "984          False  \n",
       "985          False  \n",
       "\n",
       "[760 rows x 8 columns]>"
      ]
     },
     "execution_count": 26,
     "metadata": {},
     "output_type": "execute_result"
    }
   ],
   "source": [
    "IMDB_TOP1000_movies.isnull().sum"
   ]
  },
  {
   "cell_type": "markdown",
   "metadata": {},
   "source": [
    "# Data Analysis"
   ]
  },
  {
   "cell_type": "code",
   "execution_count": 27,
   "metadata": {},
   "outputs": [],
   "source": [
    "#Loading the data\n",
    "IMDB_df = pd.read_csv('TOP1000_test.csv')"
   ]
  },
  {
   "cell_type": "code",
   "execution_count": 28,
   "metadata": {},
   "outputs": [
    {
     "data": {
      "text/html": [
       "<div>\n",
       "<style scoped>\n",
       "    .dataframe tbody tr th:only-of-type {\n",
       "        vertical-align: middle;\n",
       "    }\n",
       "\n",
       "    .dataframe tbody tr th {\n",
       "        vertical-align: top;\n",
       "    }\n",
       "\n",
       "    .dataframe thead th {\n",
       "        text-align: right;\n",
       "    }\n",
       "</style>\n",
       "<table border=\"1\" class=\"dataframe\">\n",
       "  <thead>\n",
       "    <tr style=\"text-align: right;\">\n",
       "      <th></th>\n",
       "      <th>Unnamed: 0</th>\n",
       "      <th>year</th>\n",
       "      <th>time_minute</th>\n",
       "      <th>imdb_rating</th>\n",
       "      <th>metascore</th>\n",
       "      <th>vote</th>\n",
       "      <th>gross_earning</th>\n",
       "    </tr>\n",
       "  </thead>\n",
       "  <tbody>\n",
       "    <tr>\n",
       "      <th>count</th>\n",
       "      <td>760.000000</td>\n",
       "      <td>760.000000</td>\n",
       "      <td>760.000000</td>\n",
       "      <td>760.000000</td>\n",
       "      <td>760.000000</td>\n",
       "      <td>7.600000e+02</td>\n",
       "      <td>760.000000</td>\n",
       "    </tr>\n",
       "    <tr>\n",
       "      <th>mean</th>\n",
       "      <td>420.088158</td>\n",
       "      <td>1994.986842</td>\n",
       "      <td>123.188158</td>\n",
       "      <td>7.931711</td>\n",
       "      <td>77.368421</td>\n",
       "      <td>3.349773e+05</td>\n",
       "      <td>75.128013</td>\n",
       "    </tr>\n",
       "    <tr>\n",
       "      <th>std</th>\n",
       "      <td>264.433162</td>\n",
       "      <td>19.517563</td>\n",
       "      <td>26.016821</td>\n",
       "      <td>0.289804</td>\n",
       "      <td>12.535002</td>\n",
       "      <td>3.436865e+05</td>\n",
       "      <td>112.765798</td>\n",
       "    </tr>\n",
       "    <tr>\n",
       "      <th>min</th>\n",
       "      <td>1.000000</td>\n",
       "      <td>1925.000000</td>\n",
       "      <td>66.000000</td>\n",
       "      <td>7.600000</td>\n",
       "      <td>28.000000</td>\n",
       "      <td>2.567700e+04</td>\n",
       "      <td>0.000000</td>\n",
       "    </tr>\n",
       "    <tr>\n",
       "      <th>25%</th>\n",
       "      <td>194.750000</td>\n",
       "      <td>1985.750000</td>\n",
       "      <td>104.000000</td>\n",
       "      <td>7.700000</td>\n",
       "      <td>70.000000</td>\n",
       "      <td>8.762125e+04</td>\n",
       "      <td>5.182500</td>\n",
       "    </tr>\n",
       "    <tr>\n",
       "      <th>50%</th>\n",
       "      <td>391.500000</td>\n",
       "      <td>2001.000000</td>\n",
       "      <td>120.000000</td>\n",
       "      <td>7.900000</td>\n",
       "      <td>78.000000</td>\n",
       "      <td>2.148220e+05</td>\n",
       "      <td>32.385000</td>\n",
       "    </tr>\n",
       "    <tr>\n",
       "      <th>75%</th>\n",
       "      <td>626.500000</td>\n",
       "      <td>2009.000000</td>\n",
       "      <td>136.000000</td>\n",
       "      <td>8.100000</td>\n",
       "      <td>86.000000</td>\n",
       "      <td>4.677370e+05</td>\n",
       "      <td>100.040000</td>\n",
       "    </tr>\n",
       "    <tr>\n",
       "      <th>max</th>\n",
       "      <td>985.000000</td>\n",
       "      <td>2020.000000</td>\n",
       "      <td>238.000000</td>\n",
       "      <td>9.300000</td>\n",
       "      <td>100.000000</td>\n",
       "      <td>2.304536e+06</td>\n",
       "      <td>936.660000</td>\n",
       "    </tr>\n",
       "  </tbody>\n",
       "</table>\n",
       "</div>"
      ],
      "text/plain": [
       "       Unnamed: 0         year  time_minute  imdb_rating   metascore  \\\n",
       "count  760.000000   760.000000   760.000000   760.000000  760.000000   \n",
       "mean   420.088158  1994.986842   123.188158     7.931711   77.368421   \n",
       "std    264.433162    19.517563    26.016821     0.289804   12.535002   \n",
       "min      1.000000  1925.000000    66.000000     7.600000   28.000000   \n",
       "25%    194.750000  1985.750000   104.000000     7.700000   70.000000   \n",
       "50%    391.500000  2001.000000   120.000000     7.900000   78.000000   \n",
       "75%    626.500000  2009.000000   136.000000     8.100000   86.000000   \n",
       "max    985.000000  2020.000000   238.000000     9.300000  100.000000   \n",
       "\n",
       "               vote  gross_earning  \n",
       "count  7.600000e+02     760.000000  \n",
       "mean   3.349773e+05      75.128013  \n",
       "std    3.436865e+05     112.765798  \n",
       "min    2.567700e+04       0.000000  \n",
       "25%    8.762125e+04       5.182500  \n",
       "50%    2.148220e+05      32.385000  \n",
       "75%    4.677370e+05     100.040000  \n",
       "max    2.304536e+06     936.660000  "
      ]
     },
     "execution_count": 28,
     "metadata": {},
     "output_type": "execute_result"
    }
   ],
   "source": [
    "#Checking summary stats\n",
    "IMDB_df.describe()"
   ]
  },
  {
   "cell_type": "code",
   "execution_count": 29,
   "metadata": {},
   "outputs": [
    {
     "data": {
      "text/html": [
       "<div>\n",
       "<style scoped>\n",
       "    .dataframe tbody tr th:only-of-type {\n",
       "        vertical-align: middle;\n",
       "    }\n",
       "\n",
       "    .dataframe tbody tr th {\n",
       "        vertical-align: top;\n",
       "    }\n",
       "\n",
       "    .dataframe thead th {\n",
       "        text-align: right;\n",
       "    }\n",
       "</style>\n",
       "<table border=\"1\" class=\"dataframe\">\n",
       "  <thead>\n",
       "    <tr style=\"text-align: right;\">\n",
       "      <th></th>\n",
       "      <th>Unnamed: 0</th>\n",
       "      <th>movie</th>\n",
       "      <th>year</th>\n",
       "      <th>time_minute</th>\n",
       "      <th>genre</th>\n",
       "      <th>imdb_rating</th>\n",
       "      <th>metascore</th>\n",
       "      <th>vote</th>\n",
       "      <th>gross_earning</th>\n",
       "    </tr>\n",
       "  </thead>\n",
       "  <tbody>\n",
       "    <tr>\n",
       "      <th>2</th>\n",
       "      <td>3</td>\n",
       "      <td>The Untouchables</td>\n",
       "      <td>1987</td>\n",
       "      <td>119</td>\n",
       "      <td>Crime, Drama, Thriller</td>\n",
       "      <td>7.9</td>\n",
       "      <td>79.0</td>\n",
       "      <td>276756</td>\n",
       "      <td>76.27</td>\n",
       "    </tr>\n",
       "    <tr>\n",
       "      <th>3</th>\n",
       "      <td>4</td>\n",
       "      <td>The Nightmare Before Christmas</td>\n",
       "      <td>1993</td>\n",
       "      <td>76</td>\n",
       "      <td>Animation, Family, Fantasy</td>\n",
       "      <td>8.0</td>\n",
       "      <td>82.0</td>\n",
       "      <td>293284</td>\n",
       "      <td>75.08</td>\n",
       "    </tr>\n",
       "    <tr>\n",
       "      <th>4</th>\n",
       "      <td>6</td>\n",
       "      <td>Harry Potter and the Sorcerer's Stone</td>\n",
       "      <td>2001</td>\n",
       "      <td>152</td>\n",
       "      <td>Adventure, Family, Fantasy</td>\n",
       "      <td>7.6</td>\n",
       "      <td>64.0</td>\n",
       "      <td>640187</td>\n",
       "      <td>317.58</td>\n",
       "    </tr>\n",
       "    <tr>\n",
       "      <th>7</th>\n",
       "      <td>9</td>\n",
       "      <td>Knives Out</td>\n",
       "      <td>2019</td>\n",
       "      <td>130</td>\n",
       "      <td>Comedy, Crime, Drama</td>\n",
       "      <td>7.9</td>\n",
       "      <td>82.0</td>\n",
       "      <td>413379</td>\n",
       "      <td>165.36</td>\n",
       "    </tr>\n",
       "    <tr>\n",
       "      <th>10</th>\n",
       "      <td>12</td>\n",
       "      <td>The Hunt for Red October</td>\n",
       "      <td>1990</td>\n",
       "      <td>135</td>\n",
       "      <td>Action, Adventure, Thriller</td>\n",
       "      <td>7.6</td>\n",
       "      <td>58.0</td>\n",
       "      <td>177745</td>\n",
       "      <td>122.01</td>\n",
       "    </tr>\n",
       "    <tr>\n",
       "      <th>...</th>\n",
       "      <td>...</td>\n",
       "      <td>...</td>\n",
       "      <td>...</td>\n",
       "      <td>...</td>\n",
       "      <td>...</td>\n",
       "      <td>...</td>\n",
       "      <td>...</td>\n",
       "      <td>...</td>\n",
       "      <td>...</td>\n",
       "    </tr>\n",
       "    <tr>\n",
       "      <th>562</th>\n",
       "      <td>615</td>\n",
       "      <td>Fiddler on the Roof</td>\n",
       "      <td>1971</td>\n",
       "      <td>181</td>\n",
       "      <td>Drama, Family, Musical</td>\n",
       "      <td>8.0</td>\n",
       "      <td>67.0</td>\n",
       "      <td>38781</td>\n",
       "      <td>80.50</td>\n",
       "    </tr>\n",
       "    <tr>\n",
       "      <th>613</th>\n",
       "      <td>690</td>\n",
       "      <td>Ray</td>\n",
       "      <td>2004</td>\n",
       "      <td>152</td>\n",
       "      <td>Biography, Drama, Music</td>\n",
       "      <td>7.7</td>\n",
       "      <td>73.0</td>\n",
       "      <td>136992</td>\n",
       "      <td>75.33</td>\n",
       "    </tr>\n",
       "    <tr>\n",
       "      <th>629</th>\n",
       "      <td>714</td>\n",
       "      <td>Fantasia</td>\n",
       "      <td>1940</td>\n",
       "      <td>125</td>\n",
       "      <td>Animation, Family, Fantasy</td>\n",
       "      <td>7.7</td>\n",
       "      <td>96.0</td>\n",
       "      <td>87520</td>\n",
       "      <td>76.41</td>\n",
       "    </tr>\n",
       "    <tr>\n",
       "      <th>652</th>\n",
       "      <td>764</td>\n",
       "      <td>The Muppet Movie</td>\n",
       "      <td>1979</td>\n",
       "      <td>95</td>\n",
       "      <td>Adventure, Comedy, Family</td>\n",
       "      <td>7.6</td>\n",
       "      <td>74.0</td>\n",
       "      <td>32249</td>\n",
       "      <td>76.66</td>\n",
       "    </tr>\n",
       "    <tr>\n",
       "      <th>666</th>\n",
       "      <td>789</td>\n",
       "      <td>On Golden Pond</td>\n",
       "      <td>1981</td>\n",
       "      <td>109</td>\n",
       "      <td>Drama</td>\n",
       "      <td>7.6</td>\n",
       "      <td>68.0</td>\n",
       "      <td>27283</td>\n",
       "      <td>119.29</td>\n",
       "    </tr>\n",
       "  </tbody>\n",
       "</table>\n",
       "<p>228 rows × 9 columns</p>\n",
       "</div>"
      ],
      "text/plain": [
       "     Unnamed: 0                                  movie  year  time_minute  \\\n",
       "2             3                       The Untouchables  1987          119   \n",
       "3             4         The Nightmare Before Christmas  1993           76   \n",
       "4             6  Harry Potter and the Sorcerer's Stone  2001          152   \n",
       "7             9                             Knives Out  2019          130   \n",
       "10           12               The Hunt for Red October  1990          135   \n",
       "..          ...                                    ...   ...          ...   \n",
       "562         615                    Fiddler on the Roof  1971          181   \n",
       "613         690                                    Ray  2004          152   \n",
       "629         714                               Fantasia  1940          125   \n",
       "652         764                       The Muppet Movie  1979           95   \n",
       "666         789                         On Golden Pond  1981          109   \n",
       "\n",
       "                                       genre  imdb_rating  metascore    vote  \\\n",
       "2         Crime, Drama, Thriller                      7.9       79.0  276756   \n",
       "3     Animation, Family, Fantasy                      8.0       82.0  293284   \n",
       "4     Adventure, Family, Fantasy                      7.6       64.0  640187   \n",
       "7           Comedy, Crime, Drama                      7.9       82.0  413379   \n",
       "10   Action, Adventure, Thriller                      7.6       58.0  177745   \n",
       "..                                       ...          ...        ...     ...   \n",
       "562       Drama, Family, Musical                      8.0       67.0   38781   \n",
       "613      Biography, Drama, Music                      7.7       73.0  136992   \n",
       "629   Animation, Family, Fantasy                      7.7       96.0   87520   \n",
       "652    Adventure, Comedy, Family                      7.6       74.0   32249   \n",
       "666                        Drama                      7.6       68.0   27283   \n",
       "\n",
       "     gross_earning  \n",
       "2            76.27  \n",
       "3            75.08  \n",
       "4           317.58  \n",
       "7           165.36  \n",
       "10          122.01  \n",
       "..             ...  \n",
       "562          80.50  \n",
       "613          75.33  \n",
       "629          76.41  \n",
       "652          76.66  \n",
       "666         119.29  \n",
       "\n",
       "[228 rows x 9 columns]"
      ]
     },
     "execution_count": 29,
     "metadata": {},
     "output_type": "execute_result"
    }
   ],
   "source": [
    "# finding the median gross eanring \n",
    "Movies_gross_earninsg_over75 = IMDB_df.loc[IMDB_df['gross_earning'] >= 75]\n",
    "Movies_gross_earninsg_over75"
   ]
  },
  {
   "cell_type": "code",
   "execution_count": 30,
   "metadata": {},
   "outputs": [
    {
     "data": {
      "text/html": [
       "<div>\n",
       "<style scoped>\n",
       "    .dataframe tbody tr th:only-of-type {\n",
       "        vertical-align: middle;\n",
       "    }\n",
       "\n",
       "    .dataframe tbody tr th {\n",
       "        vertical-align: top;\n",
       "    }\n",
       "\n",
       "    .dataframe thead th {\n",
       "        text-align: right;\n",
       "    }\n",
       "</style>\n",
       "<table border=\"1\" class=\"dataframe\">\n",
       "  <thead>\n",
       "    <tr style=\"text-align: right;\">\n",
       "      <th></th>\n",
       "      <th>Unnamed: 0</th>\n",
       "      <th>movie</th>\n",
       "      <th>year</th>\n",
       "      <th>time_minute</th>\n",
       "      <th>genre</th>\n",
       "      <th>imdb_rating</th>\n",
       "      <th>metascore</th>\n",
       "      <th>vote</th>\n",
       "      <th>gross_earning</th>\n",
       "    </tr>\n",
       "  </thead>\n",
       "  <tbody>\n",
       "    <tr>\n",
       "      <th>7</th>\n",
       "      <td>9</td>\n",
       "      <td>Knives Out</td>\n",
       "      <td>2019</td>\n",
       "      <td>130</td>\n",
       "      <td>Comedy, Crime, Drama</td>\n",
       "      <td>7.9</td>\n",
       "      <td>82.0</td>\n",
       "      <td>413379</td>\n",
       "      <td>165.36</td>\n",
       "    </tr>\n",
       "    <tr>\n",
       "      <th>12</th>\n",
       "      <td>14</td>\n",
       "      <td>Once Upon a Time... In Hollywood</td>\n",
       "      <td>2019</td>\n",
       "      <td>161</td>\n",
       "      <td>Comedy, Drama</td>\n",
       "      <td>7.6</td>\n",
       "      <td>83.0</td>\n",
       "      <td>527209</td>\n",
       "      <td>142.50</td>\n",
       "    </tr>\n",
       "    <tr>\n",
       "      <th>13</th>\n",
       "      <td>15</td>\n",
       "      <td>Coco</td>\n",
       "      <td>2017</td>\n",
       "      <td>105</td>\n",
       "      <td>Animation, Adventure, Family</td>\n",
       "      <td>8.4</td>\n",
       "      <td>81.0</td>\n",
       "      <td>363684</td>\n",
       "      <td>209.73</td>\n",
       "    </tr>\n",
       "    <tr>\n",
       "      <th>16</th>\n",
       "      <td>18</td>\n",
       "      <td>1917</td>\n",
       "      <td>2019</td>\n",
       "      <td>119</td>\n",
       "      <td>Drama, War</td>\n",
       "      <td>8.3</td>\n",
       "      <td>78.0</td>\n",
       "      <td>387911</td>\n",
       "      <td>159.23</td>\n",
       "    </tr>\n",
       "    <tr>\n",
       "      <th>18</th>\n",
       "      <td>21</td>\n",
       "      <td>Joker</td>\n",
       "      <td>2019</td>\n",
       "      <td>122</td>\n",
       "      <td>Crime, Drama, Thriller</td>\n",
       "      <td>8.5</td>\n",
       "      <td>59.0</td>\n",
       "      <td>892851</td>\n",
       "      <td>335.45</td>\n",
       "    </tr>\n",
       "    <tr>\n",
       "      <th>...</th>\n",
       "      <td>...</td>\n",
       "      <td>...</td>\n",
       "      <td>...</td>\n",
       "      <td>...</td>\n",
       "      <td>...</td>\n",
       "      <td>...</td>\n",
       "      <td>...</td>\n",
       "      <td>...</td>\n",
       "      <td>...</td>\n",
       "    </tr>\n",
       "    <tr>\n",
       "      <th>446</th>\n",
       "      <td>469</td>\n",
       "      <td>The Fighter</td>\n",
       "      <td>2010</td>\n",
       "      <td>116</td>\n",
       "      <td>Biography, Drama, Sport</td>\n",
       "      <td>7.8</td>\n",
       "      <td>79.0</td>\n",
       "      <td>336621</td>\n",
       "      <td>93.62</td>\n",
       "    </tr>\n",
       "    <tr>\n",
       "      <th>468</th>\n",
       "      <td>496</td>\n",
       "      <td>The Lego Movie</td>\n",
       "      <td>2014</td>\n",
       "      <td>100</td>\n",
       "      <td>Animation, Action, Adventure</td>\n",
       "      <td>7.7</td>\n",
       "      <td>83.0</td>\n",
       "      <td>321281</td>\n",
       "      <td>257.76</td>\n",
       "    </tr>\n",
       "    <tr>\n",
       "      <th>482</th>\n",
       "      <td>514</td>\n",
       "      <td>Straight Outta Compton</td>\n",
       "      <td>2015</td>\n",
       "      <td>147</td>\n",
       "      <td>Biography, Drama, History</td>\n",
       "      <td>7.8</td>\n",
       "      <td>72.0</td>\n",
       "      <td>177405</td>\n",
       "      <td>161.20</td>\n",
       "    </tr>\n",
       "    <tr>\n",
       "      <th>509</th>\n",
       "      <td>549</td>\n",
       "      <td>How to Train Your Dragon 2</td>\n",
       "      <td>2014</td>\n",
       "      <td>102</td>\n",
       "      <td>Animation, Action, Adventure</td>\n",
       "      <td>7.8</td>\n",
       "      <td>76.0</td>\n",
       "      <td>301289</td>\n",
       "      <td>177.00</td>\n",
       "    </tr>\n",
       "    <tr>\n",
       "      <th>558</th>\n",
       "      <td>610</td>\n",
       "      <td>Dawn of the Planet of the Apes</td>\n",
       "      <td>2014</td>\n",
       "      <td>130</td>\n",
       "      <td>Action, Adventure, Drama</td>\n",
       "      <td>7.6</td>\n",
       "      <td>79.0</td>\n",
       "      <td>408654</td>\n",
       "      <td>208.55</td>\n",
       "    </tr>\n",
       "  </tbody>\n",
       "</table>\n",
       "<p>84 rows × 9 columns</p>\n",
       "</div>"
      ],
      "text/plain": [
       "     Unnamed: 0                             movie  year  time_minute  \\\n",
       "7             9                        Knives Out  2019          130   \n",
       "12           14  Once Upon a Time... In Hollywood  2019          161   \n",
       "13           15                              Coco  2017          105   \n",
       "16           18                              1917  2019          119   \n",
       "18           21                             Joker  2019          122   \n",
       "..          ...                               ...   ...          ...   \n",
       "446         469                       The Fighter  2010          116   \n",
       "468         496                    The Lego Movie  2014          100   \n",
       "482         514            Straight Outta Compton  2015          147   \n",
       "509         549        How to Train Your Dragon 2  2014          102   \n",
       "558         610    Dawn of the Planet of the Apes  2014          130   \n",
       "\n",
       "                                        genre  imdb_rating  metascore    vote  \\\n",
       "7            Comedy, Crime, Drama                      7.9       82.0  413379   \n",
       "12                  Comedy, Drama                      7.6       83.0  527209   \n",
       "13   Animation, Adventure, Family                      8.4       81.0  363684   \n",
       "16                     Drama, War                      8.3       78.0  387911   \n",
       "18         Crime, Drama, Thriller                      8.5       59.0  892851   \n",
       "..                                        ...          ...        ...     ...   \n",
       "446       Biography, Drama, Sport                      7.8       79.0  336621   \n",
       "468  Animation, Action, Adventure                      7.7       83.0  321281   \n",
       "482     Biography, Drama, History                      7.8       72.0  177405   \n",
       "509  Animation, Action, Adventure                      7.8       76.0  301289   \n",
       "558      Action, Adventure, Drama                      7.6       79.0  408654   \n",
       "\n",
       "     gross_earning  \n",
       "7           165.36  \n",
       "12          142.50  \n",
       "13          209.73  \n",
       "16          159.23  \n",
       "18          335.45  \n",
       "..             ...  \n",
       "446          93.62  \n",
       "468         257.76  \n",
       "482         161.20  \n",
       "509         177.00  \n",
       "558         208.55  \n",
       "\n",
       "[84 rows x 9 columns]"
      ]
     },
     "execution_count": 30,
     "metadata": {},
     "output_type": "execute_result"
    }
   ],
   "source": [
    "#Creating a new dataframe for gross earning over 75Million and narrowing down the years to 2010-present\n",
    "ten_years_df = Movies_gross_earninsg_over75.loc[Movies_gross_earninsg_over75['year'] >= 2010]\n",
    "ten_years_df"
   ]
  },
  {
   "cell_type": "code",
   "execution_count": 31,
   "metadata": {},
   "outputs": [
    {
     "data": {
      "text/html": [
       "<div>\n",
       "<style scoped>\n",
       "    .dataframe tbody tr th:only-of-type {\n",
       "        vertical-align: middle;\n",
       "    }\n",
       "\n",
       "    .dataframe tbody tr th {\n",
       "        vertical-align: top;\n",
       "    }\n",
       "\n",
       "    .dataframe thead th {\n",
       "        text-align: right;\n",
       "    }\n",
       "</style>\n",
       "<table border=\"1\" class=\"dataframe\">\n",
       "  <thead>\n",
       "    <tr style=\"text-align: right;\">\n",
       "      <th></th>\n",
       "      <th>Unnamed: 0</th>\n",
       "      <th>movie</th>\n",
       "      <th>year</th>\n",
       "      <th>time_minute</th>\n",
       "      <th>genre</th>\n",
       "      <th>imdb_rating</th>\n",
       "      <th>metascore</th>\n",
       "      <th>vote</th>\n",
       "      <th>gross_earning</th>\n",
       "    </tr>\n",
       "  </thead>\n",
       "  <tbody>\n",
       "    <tr>\n",
       "      <th>19</th>\n",
       "      <td>22</td>\n",
       "      <td>Avengers: Endgame</td>\n",
       "      <td>2019</td>\n",
       "      <td>181</td>\n",
       "      <td>Action, Adventure, Drama</td>\n",
       "      <td>8.4</td>\n",
       "      <td>78.0</td>\n",
       "      <td>778254</td>\n",
       "      <td>858.37</td>\n",
       "    </tr>\n",
       "  </tbody>\n",
       "</table>\n",
       "</div>"
      ],
      "text/plain": [
       "    Unnamed: 0              movie  year  time_minute  \\\n",
       "19          22  Avengers: Endgame  2019          181   \n",
       "\n",
       "                                   genre  imdb_rating  metascore    vote  \\\n",
       "19  Action, Adventure, Drama                      8.4       78.0  778254   \n",
       "\n",
       "    gross_earning  \n",
       "19         858.37  "
      ]
     },
     "execution_count": 31,
     "metadata": {},
     "output_type": "execute_result"
    }
   ],
   "source": [
    "# Per Ijeoma's analysis we see see that Avengers: Endgame is the ideal candidate to model as a potential movie\n",
    "ten_years_df[ten_years_df['movie'] == \"Avengers: Endgame\"]"
   ]
  },
  {
   "cell_type": "code",
   "execution_count": 35,
   "metadata": {},
   "outputs": [
    {
     "data": {
      "text/plain": [
       "<bound method Series.sort_values of imdb_rating\n",
       "7.6    229.950000\n",
       "7.7    205.670000\n",
       "7.8    236.719231\n",
       "7.9    270.640000\n",
       "8.0    226.532857\n",
       "8.1    231.540000\n",
       "8.2    109.996667\n",
       "8.3    287.115000\n",
       "8.4    424.685000\n",
       "8.5    335.450000\n",
       "8.6    188.020000\n",
       "8.8    292.580000\n",
       "Name: gross_earning, dtype: float64>"
      ]
     },
     "execution_count": 35,
     "metadata": {},
     "output_type": "execute_result"
    }
   ],
   "source": [
    "# Checking the average gross_earning to rating\n",
    "ten_years_df.groupby(['imdb_rating'])['gross_earning'].mean().sort_values"
   ]
  },
  {
   "cell_type": "code",
   "execution_count": 67,
   "metadata": {},
   "outputs": [
    {
     "data": {
      "image/png": "[encoded data removed]",
      "text/plain": [
       "<Figure size 576x396 with 1 Axes>"
      ]
     },
     "metadata": {},
     "output_type": "display_data"
    }
   ],
   "source": [
    "#Visualizing the data. Concluding that a rating above 7.6 and up will have have a success of a high lifetime gross earning\n",
    "y = ten_years_df.groupby(['imdb_rating'])['gross_earning'].mean()\n",
    "x = y.index\n",
    "\n",
    "fig, ax = plt.subplots()\n",
    "ax.bar(x,y)\n",
    "ax.set_title('Average Gross Earning to IMDB Rating')\n",
    "\n",
    "fig.savefig('Average Gross Earning to IMDB Rating.png')\n",
    "\n"
   ]
  },
  {
   "cell_type": "code",
   "execution_count": 70,
   "metadata": {},
   "outputs": [
    {
     "data": {
      "image/png": "[encoded data removed]",
      "text/plain": [
       "<Figure size 720x432 with 1 Axes>"
      ]
     },
     "metadata": {},
     "output_type": "display_data"
    }
   ],
   "source": [
    "# Visualizing the Relationship to voters to gross earnings\n",
    "# Result is not a strong correlation.\n",
    "tackle_figure, ax = plt.subplots(figsize=(10, 6))\n",
    "ax.set_title('Relationship Between Voters to Gross Earning')\n",
    "ax.set_xlabel('Number of Votes in Hundred Thousands ')\n",
    "ax.set_ylabel('Gross Earning in Millions')\n",
    "\n",
    "x1 = ten_years_df.vote\n",
    "y1 = ten_years_df.gross_earning\n",
    "\n",
    "ax.scatter(x1, y1)\n",
    "\n",
    "\n",
    "\n",
    "fig.savefig('Relationship Between Voters to Gross Earning.png')\n"
   ]
  },
  {
   "cell_type": "code",
   "execution_count": 39,
   "metadata": {},
   "outputs": [
    {
     "data": {
      "text/plain": [
       "Action, Adventure, Sci Fi                   12\n",
       "Animation, Adventure, Comedy                 7\n",
       "Action, Adventure, Comedy                    6\n",
       "Animation, Action, Adventure                 6\n",
       "Action, Adventure, Drama                     3\n",
       "Biography, Drama, History                    3\n",
       "Adventure, Drama, Fantasy                    2\n",
       "Biography, Drama, Sport                      2\n",
       "Action, Adventure, Thriller                  2\n",
       "Biography, Drama, Thriller                   2\n",
       "Name: genre, dtype: int64"
      ]
     },
     "execution_count": 39,
     "metadata": {},
     "output_type": "execute_result"
    }
   ],
   "source": [
    "# Doing some continued analysis on genre. Also seen, Action, Adventure\n",
    "top_10_genre = ten_years_df['genre'].value_counts()[0:10]\n",
    "top_10_genre"
   ]
  },
  {
   "cell_type": "code",
   "execution_count": 42,
   "metadata": {},
   "outputs": [
    {
     "data": {
      "text/plain": [
       "genre\n",
       "Animation, Adventure, Comedy                312.252857\n",
       "Crime, Drama, Thriller                      335.450000\n",
       "Action, Adventure, Sci Fi                   382.895833\n",
       "Action, Adventure, Drama                    416.853333\n",
       "Action, Adventure                           448.140000\n",
       "Name: gross_earning, dtype: float64"
      ]
     },
     "execution_count": 42,
     "metadata": {},
     "output_type": "execute_result"
    }
   ],
   "source": [
    "# Checking avergae gross earning for the top five genre\n",
    "top_5_genre = ten_years_df.groupby(['genre'])['gross_earning'].mean().sort_values().tail(5)\n",
    "top_5_genre"
   ]
  },
  {
   "cell_type": "code",
   "execution_count": 43,
   "metadata": {},
   "outputs": [
    {
     "data": {
      "text/plain": [
       "<matplotlib.axes._subplots.AxesSubplot at 0x7ff1c4c6f730>"
      ]
     },
     "execution_count": 43,
     "metadata": {},
     "output_type": "execute_result"
    },
    {
     "data": {
      "image/png": "[encoded data removed]",
      "text/plain": [
       "<Figure size 576x396 with 1 Axes>"
      ]
     },
     "metadata": {},
     "output_type": "display_data"
    }
   ],
   "source": [
    "#Ploting a bar chart\n",
    "top_5_genre.plot(kind='barh')"
   ]
  },
  {
   "cell_type": "code",
   "execution_count": 71,
   "metadata": {},
   "outputs": [
    {
     "data": {
      "image/png": "[encoded data removed]",
      "text/plain": [
       "<Figure size 576x720 with 1 Axes>"
      ]
     },
     "metadata": {},
     "output_type": "display_data"
    }
   ],
   "source": [
    "#Creating a better bar graph\n",
    "ax = top_5_genre.plot(kind='barh', figsize=(8, 10), color='#86bf91', zorder=2, width=0.85)\n",
    "\n",
    "# Despine\n",
    "ax.spines['right'].set_visible(False)\n",
    "ax.spines['top'].set_visible(False)\n",
    "ax.spines['left'].set_visible(False)\n",
    "ax.spines['bottom'].set_visible(False)\n",
    "\n",
    "# Switch off ticks\n",
    "ax.tick_params(axis=\"both\", which=\"both\", bottom=\"off\", top=\"off\", labelbottom=\"on\", left=\"off\", right=\"off\", labelleft=\"on\")\n",
    "\n",
    "# Draw vertical axis lines\n",
    "vals = ax.get_xticks()\n",
    "for tick in vals:\n",
    "  ax.axvline(x=tick, linestyle='dashed', alpha=0.4, color='#eeeeee', zorder=1)\n",
    "\n",
    "# Set x-axis label\n",
    "ax.set_xlabel(\"Average Gross Earnings (Millions)\", labelpad=20, weight='bold', size=12)\n",
    "\n",
    "# Set y-axis label\n",
    "ax.set_ylabel(\"Genre\", labelpad=20, weight='bold', size=12)\n",
    "\n",
    "# Format y-axis label\n",
    "ax.xaxis.set_major_formatter(StrMethodFormatter('{x:,g}'))\n",
    "\n",
    "ax.set_title(\"Top 5 Genres to Gross Earnings\", weight='bold', size=22)\n",
    "\n",
    "fig.savefig('Top 5 Genres to Gross Earnings.png')"
   ]
  },
  {
   "cell_type": "code",
   "execution_count": 47,
   "metadata": {},
   "outputs": [],
   "source": [
    "# As we can see above movies with the genre containing: Action, Adventure, and Drama have the most success in lifetime gross earning success."
   ]
  },
  {
   "cell_type": "code",
   "execution_count": 49,
   "metadata": {},
   "outputs": [
    {
     "data": {
      "text/plain": [
       "imdb_rating\n",
       "7.7    205.670000\n",
       "8.0    226.532857\n",
       "7.6    229.950000\n",
       "8.1    231.540000\n",
       "7.8    236.719231\n",
       "7.9    270.640000\n",
       "8.3    287.115000\n",
       "8.8    292.580000\n",
       "8.5    335.450000\n",
       "8.4    424.685000\n",
       "Name: gross_earning, dtype: float64"
      ]
     },
     "execution_count": 49,
     "metadata": {},
     "output_type": "execute_result"
    }
   ],
   "source": [
    "# Checking Average Gross Earning for IMDB Ratings\n",
    "rating = ten_years_df.groupby(['imdb_rating'])['gross_earning'].mean().sort_values(ascending = True).tail(10)\n",
    "rating"
   ]
  },
  {
   "cell_type": "code",
   "execution_count": 50,
   "metadata": {},
   "outputs": [
    {
     "data": {
      "text/plain": [
       "<matplotlib.axes._subplots.AxesSubplot at 0x7ff1c459a310>"
      ]
     },
     "execution_count": 50,
     "metadata": {},
     "output_type": "execute_result"
    },
    {
     "data": {
      "image/png": "[encoded data removed]",
      "text/plain": [
       "<Figure size 576x396 with 1 Axes>"
      ]
     },
     "metadata": {},
     "output_type": "display_data"
    }
   ],
   "source": [
    "#Ploting the findings \n",
    "rating.plot(kind='barh')"
   ]
  },
  {
   "cell_type": "code",
   "execution_count": 61,
   "metadata": {},
   "outputs": [
    {
     "data": {
      "image/png": "[encoded data removed]",
      "text/plain": [
       "<Figure size 576x720 with 1 Axes>"
      ]
     },
     "metadata": {},
     "output_type": "display_data"
    }
   ],
   "source": [
    "# Cleaning the graph to repreent the data clearly\n",
    "\n",
    "ax = rating.plot(kind='barh', figsize=(8, 10), color='#86bf91', zorder=2, width=0.85)\n",
    "\n",
    "# Despine\n",
    "ax.spines['right'].set_visible(False)\n",
    "ax.spines['top'].set_visible(False)\n",
    "ax.spines['left'].set_visible(False)\n",
    "ax.spines['bottom'].set_visible(False)\n",
    "\n",
    "# Switch off ticks\n",
    "ax.tick_params(axis=\"both\", which=\"both\", bottom=\"off\", top=\"off\", labelbottom=\"on\", left=\"off\", right=\"off\", labelleft=\"on\")\n",
    "\n",
    "# Draw vertical axis lines\n",
    "vals = ax.get_xticks()\n",
    "for tick in vals:\n",
    "  ax.axvline(x=tick, linestyle='dashed', alpha=0.4, color='#eeeeee', zorder=1)\n",
    "\n",
    "# Set x-axis label\n",
    "ax.set_xlabel(\"Average Gross Earnings (Millions)\", labelpad=20, weight='bold', size=12)\n",
    "\n",
    "# Set y-axis label\n",
    "ax.set_ylabel(\"IMDB Rating\", labelpad=20, weight='bold', size=12)\n",
    "\n",
    "# Format y-axis label\n",
    "ax.xaxis.set_major_formatter(StrMethodFormatter('{x:,g}'))\n",
    "\n",
    "ax.set_title(\"Average Gross Earning for IMDB Ratings\", weight='bold', size=22)\n",
    "\n",
    "plt.savefig('Average Gross Earning for IMDB Ratings.png')"
   ]
  },
  {
   "cell_type": "code",
   "execution_count": null,
   "metadata": {},
   "outputs": [],
   "source": [
    "# We can assume from above that movies that get an IMDB rating of over the 7.3 mark will the the high grossing earning average in their liftime."
   ]
  },
  {
   "cell_type": "code",
   "execution_count": 53,
   "metadata": {},
   "outputs": [
    {
     "data": {
      "text/plain": [
       "genre\n",
       "Animation, Comedy, Crime                    7.600000\n",
       "Action, Crime, Music                        7.600000\n",
       "Comedy, Drama                               7.600000\n",
       "Drama, Music, Romance                       7.600000\n",
       "Drama, Sport                                7.600000\n",
       "Biography, Drama, Sport                     7.700000\n",
       "Action, Adventure, Thriller                 7.700000\n",
       "Comedy, Drama, Romance                      7.700000\n",
       "Drama, Sci Fi, Thriller                     7.700000\n",
       "Horror, Mystery, Thriller                   7.700000\n",
       "Adventure, Family, Fantasy                  7.700000\n",
       "Biography, Drama                            7.700000\n",
       "Drama, Romance                              7.750000\n",
       "Crime, Drama, Mystery                       7.800000\n",
       "Adventure, Biography, Crime                 7.800000\n",
       "Adventure, Fantasy                          7.800000\n",
       "Action, Adventure, Comedy                   7.816667\n",
       "Biography, Drama, Thriller                  7.850000\n",
       "Biography, Drama, History                   7.866667\n",
       "Animation, Adventure, Comedy                7.885714\n",
       "Animation, Action, Adventure                7.900000\n",
       "Comedy, Crime, Drama                        7.900000\n",
       "Drama, Mystery, Sci Fi                      7.900000\n",
       "Action, Drama, History                      7.900000\n",
       "Action, Adventure, Sci Fi                   7.975000\n",
       "Drama, Thriller                             8.000000\n",
       "Action, Adventure, Drama                    8.000000\n",
       "Drama, Family                               8.000000\n",
       "Drama                                       8.000000\n",
       "Action, Drama, Mystery                      8.000000\n",
       "Adventure, Drama, Fantasy                   8.000000\n",
       "Biography, Drama, Music                     8.000000\n",
       "Drama, Western                              8.000000\n",
       "Comedy, Drama, Music                        8.000000\n",
       "Action, Biography, Drama                    8.100000\n",
       "Action, Drama, Sci Fi                       8.100000\n",
       "Drama, Mystery, Thriller                    8.100000\n",
       "Mystery, Thriller                           8.200000\n",
       "Biography, Crime, Drama                     8.200000\n",
       "Biography, Comedy, Drama                    8.200000\n",
       "Drama, War                                  8.300000\n",
       "Adventure, Drama, Sci Fi                    8.300000\n",
       "Animation, Adventure, Family                8.400000\n",
       "Action, Adventure                           8.400000\n",
       "Crime, Drama, Thriller                      8.500000\n",
       "Name: imdb_rating, dtype: float64"
      ]
     },
     "execution_count": 53,
     "metadata": {},
     "output_type": "execute_result"
    }
   ],
   "source": [
    "#In this section we will visualize which genre grouping has the highest IMDB rating on average\n",
    "genre = ten_years_df.groupby(['genre'])['imdb_rating'].mean().sort_values(ascending = True)\n",
    "genre"
   ]
  },
  {
   "cell_type": "code",
   "execution_count": 54,
   "metadata": {},
   "outputs": [
    {
     "data": {
      "text/plain": [
       "Text(0.5, 1.0, 'Average IMDB Rating for Genre')"
      ]
     },
     "execution_count": 54,
     "metadata": {},
     "output_type": "execute_result"
    },
    {
     "data": {
      "image/png": "[encoded data removed]",
      "text/plain": [
       "<Figure size 576x720 with 1 Axes>"
      ]
     },
     "metadata": {},
     "output_type": "display_data"
    }
   ],
   "source": [
    "#plotting the findings to visually represent\n",
    "ax = genre.plot(kind='barh', figsize=(8, 10), color='#86bf91', zorder=2, width=0.85)\n",
    "\n",
    "# Despine\n",
    "ax.spines['right'].set_visible(False)\n",
    "ax.spines['top'].set_visible(False)\n",
    "ax.spines['left'].set_visible(False)\n",
    "ax.spines['bottom'].set_visible(False)\n",
    "\n",
    "# Switch off ticks\n",
    "ax.tick_params(axis=\"both\", which=\"both\", bottom=\"off\", top=\"off\", labelbottom=\"on\", left=\"off\", right=\"off\", labelleft=\"on\")\n",
    "\n",
    "# Draw vertical axis lines\n",
    "vals = ax.get_xticks()\n",
    "for tick in vals:\n",
    "  ax.axvline(x=tick, linestyle='dashed', alpha=0.4, color='#eeeeee', zorder=1)\n",
    "\n",
    "# Set x-axis label\n",
    "ax.set_xlabel(\"Average IMDB Rating\", labelpad=20, weight='bold', size=12)\n",
    "\n",
    "# Set y-axis label\n",
    "ax.set_ylabel(\"Genre\", labelpad=20, weight='bold', size=12)\n",
    "\n",
    "# Format y-axis label\n",
    "ax.xaxis.set_major_formatter(StrMethodFormatter('{x:,g}'))\n",
    "\n",
    "ax.set_title(\"Average IMDB Rating for Genre\", weight='bold', size=22)\n",
    "\n"
   ]
  },
  {
   "cell_type": "code",
   "execution_count": null,
   "metadata": {},
   "outputs": [],
   "source": [
    "# Again we can conclude that movies with Action and Adventure score the highest."
   ]
  },
  {
   "cell_type": "code",
   "execution_count": 62,
   "metadata": {},
   "outputs": [
    {
     "data": {
      "image/png": "[encoded data removed]",
      "text/plain": [
       "<Figure size 576x720 with 1 Axes>"
      ]
     },
     "metadata": {},
     "output_type": "display_data"
    }
   ],
   "source": [
    "\n",
    "#Ploting scatter to see if their is a relationship\n",
    "ax = genre.plot(kind='barh', figsize=(8, 10), color='#86bf91', zorder=2, width=0.85)\n",
    "\n",
    "# Despine\n",
    "ax.spines['right'].set_visible(False)\n",
    "ax.spines['top'].set_visible(False)\n",
    "ax.spines['left'].set_visible(False)\n",
    "ax.spines['bottom'].set_visible(False)\n",
    "\n",
    "# Switch off ticks\n",
    "ax.tick_params(axis=\"both\", which=\"both\", bottom=\"off\", top=\"off\", labelbottom=\"on\", left=\"off\", right=\"off\", labelleft=\"on\")\n",
    "\n",
    "# Draw vertical axis lines\n",
    "vals = ax.get_xticks()\n",
    "for tick in vals:\n",
    "  ax.axvline(x=tick, linestyle='dashed', alpha=0.4, color='#eeeeee', zorder=1)\n",
    "\n",
    "# Set x-axis label\n",
    "ax.set_xlabel(\"Average IMDB Rating\", labelpad=20, weight='bold', size=12)\n",
    "\n",
    "# Set y-axis label\n",
    "ax.set_ylabel(\"Genre\", labelpad=20, weight='bold', size=12)\n",
    "\n",
    "# Format y-axis label\n",
    "ax.xaxis.set_major_formatter(StrMethodFormatter('{x:,g}'))\n",
    "\n",
    "ax.set_title(\"Average IMDB Rating for Genre\", weight='bold', size=22)\n",
    "\n",
    "plt.savefig('Average IMDB Rating for Genre.png')"
   ]
  },
  {
   "cell_type": "code",
   "execution_count": 63,
   "metadata": {},
   "outputs": [
    {
     "data": {
      "image/png": "[encoded data removed]",
      "text/plain": [
       "<Figure size 720x432 with 1 Axes>"
      ]
     },
     "metadata": {},
     "output_type": "display_data"
    }
   ],
   "source": [
    "#The chart below is Relationship Between Movie Runtime to Gross Earning, for a fture next step.\n",
    "# This shows that movies between the 100 min and 140 min will have a success in gross earnings up to 400Million. However, it is not a strong positive, but only a slight relationship\n",
    "# We can consider the chart below as a preview of future next steps in understanding budget, production, and future projection for global release.\n",
    "\n",
    "tackle_figure, ax = plt.subplots(figsize=(10, 6))\n",
    "ax.set_title('Relationship Between Movie Runtime to Gross Earning')\n",
    "ax.set_xlabel('Movie Runtime is Minutes')\n",
    "ax.set_ylabel('Gross Earning in Millions')\n",
    "\n",
    "x2 = ten_years_df.time_minute\n",
    "y2 = ten_years_df.gross_earning\n",
    "\n",
    "ax.scatter(x2, y2)\n",
    "\n",
    "plt.savefig('Relationship Between Movie Runtime to Gross Earning.png')"
   ]
  },
  {
   "cell_type": "code",
   "execution_count": null,
   "metadata": {},
   "outputs": [],
   "source": []
  }
 ],
 "metadata": {
  "kernelspec": {
   "display_name": "Python 3",
   "language": "python",
   "name": "python3"
  },
  "language_info": {
   "codemirror_mode": {
    "name": "ipython",
    "version": 3
   },
   "file_extension": ".py",
   "mimetype": "text/x-python",
   "name": "python",
   "nbconvert_exporter": "python",
   "pygments_lexer": "ipython3",
   "version": "3.8.3"
  },
  "toc": {
   "base_numbering": 1,
   "nav_menu": {},
   "number_sections": true,
   "sideBar": true,
   "skip_h1_title": false,
   "title_cell": "Table of Contents",
   "title_sidebar": "Contents",
   "toc_cell": false,
   "toc_position": {
    "height": "calc(100% - 180px)",
    "left": "10px",
    "top": "150px",
    "width": "283px"
   },
   "toc_section_display": true,
   "toc_window_display": true
  }
 },
 "nbformat": 4,
 "nbformat_minor": 4
}
